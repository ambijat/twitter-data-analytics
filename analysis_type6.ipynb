{
 "cells": [
  {
   "cell_type": "code",
   "execution_count": 1,
   "metadata": {},
   "outputs": [],
   "source": [
    "#initialising libraries\n",
    "import json\n",
    "import sys\n",
    "import pandas as pd\n",
    "import numpy as np\n",
    "import matplotlib.pyplot as plt\n",
    "%matplotlib inline \n",
    "import glob\n",
    "import os\n",
    "import re\n",
    "\n",
    "pd.set_option(\"display.max_colwidth\", 70000)"
   ]
  },
  {
   "cell_type": "code",
   "execution_count": 2,
   "metadata": {},
   "outputs": [
    {
     "name": "stdin",
     "output_type": "stream",
     "text": [
      "Enter the process path :  /media/ambijat/Datrat/ipytoneeee/CNUS\n"
     ]
    },
    {
     "name": "stdout",
     "output_type": "stream",
     "text": [
      "/media/ambijat/Datrat/ipytoneeee/CNUS/processed2/hongchina10620203062020_original.csv\n",
      "/media/ambijat/Datrat/ipytoneeee/CNUS/processed2/hongchina10620203062020_original.csv\n"
     ]
    }
   ],
   "source": [
    "path_to_process = input(\"Enter the process path : \") + \"/\" + \"processed2\"\n",
    "\n",
    "for name in glob.glob(path_to_process + \"/\" + \"*_original.csv\"):\n",
    "    print(name)\n",
    "    original_file = name\n",
    "print(original_file)"
   ]
  },
  {
   "cell_type": "code",
   "execution_count": 3,
   "metadata": {},
   "outputs": [
    {
     "name": "stdout",
     "output_type": "stream",
     "text": [
      "hongchina10620203062020_original.txt\n",
      "hongchina10620203062020_originalb.txt\n"
     ]
    }
   ],
   "source": [
    "dn = os.path.split(original_file)[1].replace('.csv', '') + \".txt\"\n",
    "print(dn)\n",
    "dn2 = os.path.split(original_file)[1].replace('.csv', 'b') + \".txt\"\n",
    "print(dn2)"
   ]
  },
  {
   "cell_type": "code",
   "execution_count": 4,
   "metadata": {},
   "outputs": [],
   "source": [
    "#use sep always and lineterminator\n",
    "original = pd.read_csv(original_file, sep=';', lineterminator='\\n')"
   ]
  },
  {
   "cell_type": "code",
   "execution_count": 5,
   "metadata": {},
   "outputs": [
    {
     "data": {
      "text/html": [
       "<div>\n",
       "<style scoped>\n",
       "    .dataframe tbody tr th:only-of-type {\n",
       "        vertical-align: middle;\n",
       "    }\n",
       "\n",
       "    .dataframe tbody tr th {\n",
       "        vertical-align: top;\n",
       "    }\n",
       "\n",
       "    .dataframe thead th {\n",
       "        text-align: right;\n",
       "    }\n",
       "</style>\n",
       "<table border=\"1\" class=\"dataframe\">\n",
       "  <thead>\n",
       "    <tr style=\"text-align: right;\">\n",
       "      <th></th>\n",
       "      <th>user</th>\n",
       "      <th>reuser</th>\n",
       "      <th>full_text</th>\n",
       "      <th>range</th>\n",
       "      <th>user.location</th>\n",
       "      <th>date2</th>\n",
       "      <th>hong2</th>\n",
       "      <th>china2</th>\n",
       "      <th>law2</th>\n",
       "      <th>URLS</th>\n",
       "      <th>RT</th>\n",
       "      <th>lawhong2</th>\n",
       "      <th>chinahong2</th>\n",
       "    </tr>\n",
       "  </thead>\n",
       "  <tbody>\n",
       "    <tr>\n",
       "      <th>0</th>\n",
       "      <td>FidelisToJusti1</td>\n",
       "      <td>NaN</td>\n",
       "      <td>What @realDonaldTrump is threatening if governors don't do what he wants is to emulate Communist China's crackdown on dissent in Hong Kong. Answer me this @SenatorCollins: has Trump learned his lesson yet? The blood of innocent ppl is on ur hands now. U should've voted to convict</td>\n",
       "      <td>280</td>\n",
       "      <td>Queens, NY</td>\n",
       "      <td>1062020</td>\n",
       "      <td>True</td>\n",
       "      <td>True</td>\n",
       "      <td>False</td>\n",
       "      <td>NaN</td>\n",
       "      <td>False</td>\n",
       "      <td>False</td>\n",
       "      <td>True</td>\n",
       "    </tr>\n",
       "    <tr>\n",
       "      <th>1</th>\n",
       "      <td>Solefinder88</td>\n",
       "      <td>NaN</td>\n",
       "      <td>@CBSNews After this #Trump cannot criticize #China anymore...https://t.co/sP4URyVgx2</td>\n",
       "      <td>84</td>\n",
       "      <td>NaN</td>\n",
       "      <td>1062020</td>\n",
       "      <td>False</td>\n",
       "      <td>True</td>\n",
       "      <td>False</td>\n",
       "      <td>https://t.co/sP4URyVgx2</td>\n",
       "      <td>False</td>\n",
       "      <td>False</td>\n",
       "      <td>True</td>\n",
       "    </tr>\n",
       "    <tr>\n",
       "      <th>2</th>\n",
       "      <td>TradingNLiving1</td>\n",
       "      <td>NaN</td>\n",
       "      <td>Asian #stocks looked set to follow U.S. shares higher Tuesday as #investors focused on signs of #economic recovery over further U.S.-China tensions and spreading protests in America. The #dollar slumped, and futures indicated gains in Tokyo, Sydney and Hong Kong.</td>\n",
       "      <td>263</td>\n",
       "      <td>Mumbai, India</td>\n",
       "      <td>1062020</td>\n",
       "      <td>True</td>\n",
       "      <td>True</td>\n",
       "      <td>False</td>\n",
       "      <td>NaN</td>\n",
       "      <td>False</td>\n",
       "      <td>False</td>\n",
       "      <td>True</td>\n",
       "    </tr>\n",
       "    <tr>\n",
       "      <th>3</th>\n",
       "      <td>KyleFortesque</td>\n",
       "      <td>NaN</td>\n",
       "      <td>Pfft... This coming from a company that caved to China, because someone spoke for the Hong Kong people on the Hearthstone esports. Sure thing, @Blizzard_Ent .... https://t.co/5o2JnqnanF https://t.co/Ae5kYLjMoU</td>\n",
       "      <td>185</td>\n",
       "      <td>Australia</td>\n",
       "      <td>1062020</td>\n",
       "      <td>True</td>\n",
       "      <td>True</td>\n",
       "      <td>False</td>\n",
       "      <td>https://t.co/5o2JnqnanF</td>\n",
       "      <td>False</td>\n",
       "      <td>False</td>\n",
       "      <td>True</td>\n",
       "    </tr>\n",
       "    <tr>\n",
       "      <th>4</th>\n",
       "      <td>T_C____________</td>\n",
       "      <td>NaN</td>\n",
       "      <td>In 1989, Donald Trump praised the Chinese crackdown in Tiananmen Square and this is the man that will heal America. the leadership in China and Russia are laughing. People in America are crying like those in Hong Kong. Trump &amp;amp; Pompeo are racist hypocrites.</td>\n",
       "      <td>260</td>\n",
       "      <td>world</td>\n",
       "      <td>1062020</td>\n",
       "      <td>True</td>\n",
       "      <td>True</td>\n",
       "      <td>False</td>\n",
       "      <td>NaN</td>\n",
       "      <td>False</td>\n",
       "      <td>False</td>\n",
       "      <td>True</td>\n",
       "    </tr>\n",
       "  </tbody>\n",
       "</table>\n",
       "</div>"
      ],
      "text/plain": [
       "              user  reuser  \\\n",
       "0  FidelisToJusti1     NaN   \n",
       "1     Solefinder88     NaN   \n",
       "2  TradingNLiving1     NaN   \n",
       "3    KyleFortesque     NaN   \n",
       "4  T_C____________     NaN   \n",
       "\n",
       "                                                                                                                                                                                                                                                                                  full_text  \\\n",
       "0  What @realDonaldTrump is threatening if governors don't do what he wants is to emulate Communist China's crackdown on dissent in Hong Kong. Answer me this @SenatorCollins: has Trump learned his lesson yet? The blood of innocent ppl is on ur hands now. U should've voted to convict   \n",
       "1                                                                                                                                                                                                      @CBSNews After this #Trump cannot criticize #China anymore...https://t.co/sP4URyVgx2   \n",
       "2                   Asian #stocks looked set to follow U.S. shares higher Tuesday as #investors focused on signs of #economic recovery over further U.S.-China tensions and spreading protests in America. The #dollar slumped, and futures indicated gains in Tokyo, Sydney and Hong Kong.   \n",
       "3                                                                         Pfft... This coming from a company that caved to China, because someone spoke for the Hong Kong people on the Hearthstone esports. Sure thing, @Blizzard_Ent .... https://t.co/5o2JnqnanF https://t.co/Ae5kYLjMoU   \n",
       "4                      In 1989, Donald Trump praised the Chinese crackdown in Tiananmen Square and this is the man that will heal America. the leadership in China and Russia are laughing. People in America are crying like those in Hong Kong. Trump &amp; Pompeo are racist hypocrites.   \n",
       "\n",
       "   range  user.location    date2  hong2  china2   law2  \\\n",
       "0    280     Queens, NY  1062020   True    True  False   \n",
       "1     84            NaN  1062020  False    True  False   \n",
       "2    263  Mumbai, India  1062020   True    True  False   \n",
       "3    185      Australia  1062020   True    True  False   \n",
       "4    260          world  1062020   True    True  False   \n",
       "\n",
       "                      URLS     RT  lawhong2  chinahong2  \n",
       "0                      NaN  False     False        True  \n",
       "1  https://t.co/sP4URyVgx2  False     False        True  \n",
       "2                      NaN  False     False        True  \n",
       "3  https://t.co/5o2JnqnanF  False     False        True  \n",
       "4                      NaN  False     False        True  "
      ]
     },
     "execution_count": 5,
     "metadata": {},
     "output_type": "execute_result"
    }
   ],
   "source": [
    "original.head()"
   ]
  },
  {
   "cell_type": "code",
   "execution_count": 6,
   "metadata": {},
   "outputs": [],
   "source": [
    "text = pd. DataFrame(original['full_text'])"
   ]
  },
  {
   "cell_type": "code",
   "execution_count": 7,
   "metadata": {},
   "outputs": [
    {
     "data": {
      "text/html": [
       "<div>\n",
       "<style scoped>\n",
       "    .dataframe tbody tr th:only-of-type {\n",
       "        vertical-align: middle;\n",
       "    }\n",
       "\n",
       "    .dataframe tbody tr th {\n",
       "        vertical-align: top;\n",
       "    }\n",
       "\n",
       "    .dataframe thead th {\n",
       "        text-align: right;\n",
       "    }\n",
       "</style>\n",
       "<table border=\"1\" class=\"dataframe\">\n",
       "  <thead>\n",
       "    <tr style=\"text-align: right;\">\n",
       "      <th></th>\n",
       "      <th>full_text</th>\n",
       "    </tr>\n",
       "  </thead>\n",
       "  <tbody>\n",
       "    <tr>\n",
       "      <th>0</th>\n",
       "      <td>What @realDonaldTrump is threatening if governors don't do what he wants is to emulate Communist China's crackdown on dissent in Hong Kong. Answer me this @SenatorCollins: has Trump learned his lesson yet? The blood of innocent ppl is on ur hands now. U should've voted to convict</td>\n",
       "    </tr>\n",
       "    <tr>\n",
       "      <th>1</th>\n",
       "      <td>@CBSNews After this #Trump cannot criticize #China anymore...https://t.co/sP4URyVgx2</td>\n",
       "    </tr>\n",
       "    <tr>\n",
       "      <th>2</th>\n",
       "      <td>Asian #stocks looked set to follow U.S. shares higher Tuesday as #investors focused on signs of #economic recovery over further U.S.-China tensions and spreading protests in America. The #dollar slumped, and futures indicated gains in Tokyo, Sydney and Hong Kong.</td>\n",
       "    </tr>\n",
       "    <tr>\n",
       "      <th>3</th>\n",
       "      <td>Pfft... This coming from a company that caved to China, because someone spoke for the Hong Kong people on the Hearthstone esports. Sure thing, @Blizzard_Ent .... https://t.co/5o2JnqnanF https://t.co/Ae5kYLjMoU</td>\n",
       "    </tr>\n",
       "    <tr>\n",
       "      <th>4</th>\n",
       "      <td>In 1989, Donald Trump praised the Chinese crackdown in Tiananmen Square and this is the man that will heal America. the leadership in China and Russia are laughing. People in America are crying like those in Hong Kong. Trump &amp;amp; Pompeo are racist hypocrites.</td>\n",
       "    </tr>\n",
       "    <tr>\n",
       "      <th>5</th>\n",
       "      <td>@prosecutingUSA @SartoriaIKink @LouDeCrous @benyc @gtconway3d @ABC7News Seems us here in Europe that the Trump is destroying the US and declaring war on its citizens. It seems like the US is in good company now with Brazil, Russia, China and Hong Kong. There will be no justice and calm until the racist is removed from the WH</td>\n",
       "    </tr>\n",
       "    <tr>\n",
       "      <th>6</th>\n",
       "      <td>@TruthJustis4USA @lisastark351 You should worry about the “Minnesota problem” and the “Police problem” and the COVID PROBLEM” before you worry about China’s “Hong Kong problem.” China is a SOVREIGN NATION and not under United States control.I know you don’t know what thet means so you should look it up.</td>\n",
       "    </tr>\n",
       "    <tr>\n",
       "      <th>7</th>\n",
       "      <td>Engraçado ver a China lançando nota de repudio quando isso acontece em Hong Kong https://t.co/0S2KzyZddY</td>\n",
       "    </tr>\n",
       "    <tr>\n",
       "      <th>8</th>\n",
       "      <td>@Alysterwolf lol what the hell? Saying that the hong kong riots are pro capitalism is so wrong its insane. They are trying to stay separate from the communist mainland china and stay a democracy. It would be like saying BLM is pro slavery cause they dont want to deal with capitalism.</td>\n",
       "    </tr>\n",
       "    <tr>\n",
       "      <th>9</th>\n",
       "      <td>@tommyfawuy Apakah Taiwan,  Hong Kong, Macau...  ANTI CHINA karena menentang negara komunis PRC ???\\n\\nkita kecam kebijakan pemerintah komunis PRC.. karena mereka menjerat dengan hutang dan memaksa memasukan TKA China ke NKRI.\\n\\nkualitas dosen masa ngga bisa bedakan etnis dan pemerintahan</td>\n",
       "    </tr>\n",
       "    <tr>\n",
       "      <th>10</th>\n",
       "      <td>China slams US move to revoke Hong Kong status |  US vs China over Hong ... https://t.co/53jE19rHFT via @YouTube</td>\n",
       "    </tr>\n",
       "    <tr>\n",
       "      <th>11</th>\n",
       "      <td>Trump pode meter lei marcial mas a china n pode chegar em hong kong e falar chega bando de noia ne</td>\n",
       "    </tr>\n",
       "    <tr>\n",
       "      <th>12</th>\n",
       "      <td>Post-Doctoral Fellow\\nHong Kong China      #Epijobs\\nhttps://t.co/8nGgX1YiNy</td>\n",
       "    </tr>\n",
       "    <tr>\n",
       "      <th>13</th>\n",
       "      <td>@ATVI_AB Like you did with Hong Kong? Is it because you don’t have to worry about losing the income from China?</td>\n",
       "    </tr>\n",
       "    <tr>\n",
       "      <th>14</th>\n",
       "      <td>@France24_es Pues, Hong Kong debería ser político. No entiendo como están alarmado en los dos países. China y usa. Me pregunto si no será una estrategia</td>\n",
       "    </tr>\n",
       "    <tr>\n",
       "      <th>15</th>\n",
       "      <td>@CZhaofa Don't like it? GTFO. Go live in China. There is no comparison to what's going on in Hong Kong or mainland China, and the communist insurrection we have going on here. I hope you decide to leave.</td>\n",
       "    </tr>\n",
       "    <tr>\n",
       "      <th>16</th>\n",
       "      <td>@BeijingReview Our position on Hong Kong is very clear if\\nChina does not respect the citizens of Hong\\nKong We will end the UK-China agreement and\\nrecover Hong Kong @BorisJohnson\\n#PowerBritishAndCommonwealth\\n#GlobalBritishAndCommonwealth</td>\n",
       "    </tr>\n",
       "    <tr>\n",
       "      <th>17</th>\n",
       "      <td>Don’t let any of this looting and rioting distract you from the fact that China released a pandemic in an attempt to cover up for all their atrocities like taking over Hong Kong or their Muslim concentration camps #china #GeorgeFloydRiots #protests2020</td>\n",
       "    </tr>\n",
       "    <tr>\n",
       "      <th>18</th>\n",
       "      <td>Trump's protest response gives China a propaganda win on Hong Kong\\n\\nhttps://t.co/U80DOm0NsB</td>\n",
       "    </tr>\n",
       "    <tr>\n",
       "      <th>19</th>\n",
       "      <td>@RepMattGaetz @realDonaldTrump Hey Matt\\nWhat will you say when China makes fun of Trump when he ask them to stop attacking protesters in Hong Kong \\n\\nDo you remember when you Republican Clowns prepared States for Obamas Invasion\\n\\nWhy cant we say Trump wants to invade Democrat States\\n\\nhttps://t.co/e1bKSPVmE1</td>\n",
       "    </tr>\n",
       "  </tbody>\n",
       "</table>\n",
       "</div>"
      ],
      "text/plain": [
       "                                                                                                                                                                                                                                                                                                                                 full_text\n",
       "0                                                 What @realDonaldTrump is threatening if governors don't do what he wants is to emulate Communist China's crackdown on dissent in Hong Kong. Answer me this @SenatorCollins: has Trump learned his lesson yet? The blood of innocent ppl is on ur hands now. U should've voted to convict\n",
       "1                                                                                                                                                                                                                                                     @CBSNews After this #Trump cannot criticize #China anymore...https://t.co/sP4URyVgx2\n",
       "2                                                                  Asian #stocks looked set to follow U.S. shares higher Tuesday as #investors focused on signs of #economic recovery over further U.S.-China tensions and spreading protests in America. The #dollar slumped, and futures indicated gains in Tokyo, Sydney and Hong Kong.\n",
       "3                                                                                                                        Pfft... This coming from a company that caved to China, because someone spoke for the Hong Kong people on the Hearthstone esports. Sure thing, @Blizzard_Ent .... https://t.co/5o2JnqnanF https://t.co/Ae5kYLjMoU\n",
       "4                                                                     In 1989, Donald Trump praised the Chinese crackdown in Tiananmen Square and this is the man that will heal America. the leadership in China and Russia are laughing. People in America are crying like those in Hong Kong. Trump &amp; Pompeo are racist hypocrites.\n",
       "5   @prosecutingUSA @SartoriaIKink @LouDeCrous @benyc @gtconway3d @ABC7News Seems us here in Europe that the Trump is destroying the US and declaring war on its citizens. It seems like the US is in good company now with Brazil, Russia, China and Hong Kong. There will be no justice and calm until the racist is removed from the WH\n",
       "6                         @TruthJustis4USA @lisastark351 You should worry about the “Minnesota problem” and the “Police problem” and the COVID PROBLEM” before you worry about China’s “Hong Kong problem.” China is a SOVREIGN NATION and not under United States control.I know you don’t know what thet means so you should look it up.\n",
       "7                                                                                                                                                                                                                                 Engraçado ver a China lançando nota de repudio quando isso acontece em Hong Kong https://t.co/0S2KzyZddY\n",
       "8                                             @Alysterwolf lol what the hell? Saying that the hong kong riots are pro capitalism is so wrong its insane. They are trying to stay separate from the communist mainland china and stay a democracy. It would be like saying BLM is pro slavery cause they dont want to deal with capitalism.\n",
       "9                                       @tommyfawuy Apakah Taiwan,  Hong Kong, Macau...  ANTI CHINA karena menentang negara komunis PRC ???\\n\\nkita kecam kebijakan pemerintah komunis PRC.. karena mereka menjerat dengan hutang dan memaksa memasukan TKA China ke NKRI.\\n\\nkualitas dosen masa ngga bisa bedakan etnis dan pemerintahan\n",
       "10                                                                                                                                                                                                                        China slams US move to revoke Hong Kong status |  US vs China over Hong ... https://t.co/53jE19rHFT via @YouTube\n",
       "11                                                                                                                                                                                                                                      Trump pode meter lei marcial mas a china n pode chegar em hong kong e falar chega bando de noia ne\n",
       "12                                                                                                                                                                                                                                                            Post-Doctoral Fellow\\nHong Kong China      #Epijobs\\nhttps://t.co/8nGgX1YiNy\n",
       "13                                                                                                                                                                                                                         @ATVI_AB Like you did with Hong Kong? Is it because you don’t have to worry about losing the income from China?\n",
       "14                                                                                                                                                                                @France24_es Pues, Hong Kong debería ser político. No entiendo como están alarmado en los dos países. China y usa. Me pregunto si no será una estrategia\n",
       "15                                                                                                                             @CZhaofa Don't like it? GTFO. Go live in China. There is no comparison to what's going on in Hong Kong or mainland China, and the communist insurrection we have going on here. I hope you decide to leave.\n",
       "16                                                                                       @BeijingReview Our position on Hong Kong is very clear if\\nChina does not respect the citizens of Hong\\nKong We will end the UK-China agreement and\\nrecover Hong Kong @BorisJohnson\\n#PowerBritishAndCommonwealth\\n#GlobalBritishAndCommonwealth\n",
       "17                                                                            Don’t let any of this looting and rioting distract you from the fact that China released a pandemic in an attempt to cover up for all their atrocities like taking over Hong Kong or their Muslim concentration camps #china #GeorgeFloydRiots #protests2020\n",
       "18                                                                                                                                                                                                                                           Trump's protest response gives China a propaganda win on Hong Kong\\n\\nhttps://t.co/U80DOm0NsB\n",
       "19              @RepMattGaetz @realDonaldTrump Hey Matt\\nWhat will you say when China makes fun of Trump when he ask them to stop attacking protesters in Hong Kong \\n\\nDo you remember when you Republican Clowns prepared States for Obamas Invasion\\n\\nWhy cant we say Trump wants to invade Democrat States\\n\\nhttps://t.co/e1bKSPVmE1"
      ]
     },
     "execution_count": 7,
     "metadata": {},
     "output_type": "execute_result"
    }
   ],
   "source": [
    "text[:20]"
   ]
  },
  {
   "cell_type": "code",
   "execution_count": 8,
   "metadata": {},
   "outputs": [
    {
     "name": "stdout",
     "output_type": "stream",
     "text": [
      "/media/ambijat/Datrat/ipytoneeee/CNUS/processed2/hongchina10620203062020_original.txt\n",
      "/media/ambijat/Datrat/ipytoneeee/CNUS/processed2/hongchina10620203062020_originalb.txt\n"
     ]
    }
   ],
   "source": [
    "p_file = path_to_process + \"/\" + dn\n",
    "print(p_file)\n",
    "p2_file = path_to_process + \"/\" + dn2\n",
    "print(p2_file)"
   ]
  },
  {
   "cell_type": "code",
   "execution_count": 9,
   "metadata": {},
   "outputs": [],
   "source": [
    "text.to_csv(p_file, header = None, index = None, sep=';', mode='a')"
   ]
  },
  {
   "cell_type": "code",
   "execution_count": 10,
   "metadata": {},
   "outputs": [],
   "source": [
    "! cat  $p_file | sed 's/http[^ ]*/ /g' | sed 's/#[^ ]*/ /g' | sed 's/@[^ ]*/ /g' | sed 's/&amp;/ /g' |\\\n",
    "sed 's/\"/ /g' | sed s'/\\./ /g' | sed s'/\\-/ /g'| sed 's/[^a-zA-Z0-9 ]/ /g' | sed \"s/ t /\\'t /g\" | \\\n",
    "sed \"s/ s /\\'s /g\" | sed -e 's/^[ \\t]*//' | sed -e 's/*[ \\t]$//' | sed 's/  */ /g' > $p2_file"
   ]
  },
  {
   "cell_type": "code",
   "execution_count": 11,
   "metadata": {},
   "outputs": [],
   "source": [
    "text = pd.read_csv(p2_file, names = ['text'], sep=';', header = None)"
   ]
  },
  {
   "cell_type": "code",
   "execution_count": 12,
   "metadata": {},
   "outputs": [
    {
     "data": {
      "text/html": [
       "<div>\n",
       "<style scoped>\n",
       "    .dataframe tbody tr th:only-of-type {\n",
       "        vertical-align: middle;\n",
       "    }\n",
       "\n",
       "    .dataframe tbody tr th {\n",
       "        vertical-align: top;\n",
       "    }\n",
       "\n",
       "    .dataframe thead th {\n",
       "        text-align: right;\n",
       "    }\n",
       "</style>\n",
       "<table border=\"1\" class=\"dataframe\">\n",
       "  <thead>\n",
       "    <tr style=\"text-align: right;\">\n",
       "      <th></th>\n",
       "      <th>text</th>\n",
       "    </tr>\n",
       "  </thead>\n",
       "  <tbody>\n",
       "    <tr>\n",
       "      <th>0</th>\n",
       "      <td>What is threatening if governors don't do what he wants is to emulate Communist China's crackdown on dissent in Hong Kong Answer me this has Trump learned his lesson yet The blood of innocent ppl is on ur hands now U should ve voted to convict</td>\n",
       "    </tr>\n",
       "    <tr>\n",
       "      <th>1</th>\n",
       "      <td>After this cannot criticize anymore</td>\n",
       "    </tr>\n",
       "    <tr>\n",
       "      <th>2</th>\n",
       "      <td>Asian set to follow U S shares higher Tuesday as focused on signs of recovery over further U S China tensions and spreading protests in America The slumped and futures indicated gains in Tokyo Sydney and Hong Kong</td>\n",
       "    </tr>\n",
       "    <tr>\n",
       "      <th>3</th>\n",
       "      <td>Pfft This coming from a company that caved to China because someone spoke for the Hong Kong people on the Hearthstone esports Sure thing</td>\n",
       "    </tr>\n",
       "    <tr>\n",
       "      <th>4</th>\n",
       "      <td>In 1989 Donald Trump praised the Chinese crackdown in Tiananmen Square and this is the man that will heal America the leadership in China and Russia are laughing People in America are crying like those in Hong Kong Trump Pompeo are racist hypocrites</td>\n",
       "    </tr>\n",
       "    <tr>\n",
       "      <th>...</th>\n",
       "      <td>...</td>\n",
       "    </tr>\n",
       "    <tr>\n",
       "      <th>19052</th>\n",
       "      <td>China's state media says US can now enjoy protests after criticizing China's handling of unrest in Hong Kong</td>\n",
       "    </tr>\n",
       "    <tr>\n",
       "      <th>19053</th>\n",
       "      <td>Without a free South China Sea Hong Kong will also die soon</td>\n",
       "    </tr>\n",
       "    <tr>\n",
       "      <th>19054</th>\n",
       "      <td>Hong Kong Police ban vigil for victims of 1989 Tiananmen Square crackdown</td>\n",
       "    </tr>\n",
       "    <tr>\n",
       "      <th>19055</th>\n",
       "      <td>If China imposes its national security law the British government will change our immigration rules said Boris Johnson</td>\n",
       "    </tr>\n",
       "    <tr>\n",
       "      <th>19056</th>\n",
       "      <td>If China imposes its national security law the British government will change our immigration rules said Boris Johnson</td>\n",
       "    </tr>\n",
       "  </tbody>\n",
       "</table>\n",
       "<p>19057 rows × 1 columns</p>\n",
       "</div>"
      ],
      "text/plain": [
       "                                                                                                                                                                                                                                                             text\n",
       "0             What is threatening if governors don't do what he wants is to emulate Communist China's crackdown on dissent in Hong Kong Answer me this has Trump learned his lesson yet The blood of innocent ppl is on ur hands now U should ve voted to convict\n",
       "1                                                                                                                                                                                                                            After this cannot criticize anymore \n",
       "2                                          Asian set to follow U S shares higher Tuesday as focused on signs of recovery over further U S China tensions and spreading protests in America The slumped and futures indicated gains in Tokyo Sydney and Hong Kong \n",
       "3                                                                                                                       Pfft This coming from a company that caved to China because someone spoke for the Hong Kong people on the Hearthstone esports Sure thing \n",
       "4      In 1989 Donald Trump praised the Chinese crackdown in Tiananmen Square and this is the man that will heal America the leadership in China and Russia are laughing People in America are crying like those in Hong Kong Trump Pompeo are racist hypocrites \n",
       "...                                                                                                                                                                                                                                                           ...\n",
       "19052                                                                                                                                               China's state media says US can now enjoy protests after criticizing China's handling of unrest in Hong Kong \n",
       "19053                                                                                                                                                                                                Without a free South China Sea Hong Kong will also die soon \n",
       "19054                                                                                                                                                                                  Hong Kong Police ban vigil for victims of 1989 Tiananmen Square crackdown \n",
       "19055                                                                                                                                     If China imposes its national security law the British government will change our immigration rules said Boris Johnson \n",
       "19056                                                                                                                                     If China imposes its national security law the British government will change our immigration rules said Boris Johnson \n",
       "\n",
       "[19057 rows x 1 columns]"
      ]
     },
     "execution_count": 12,
     "metadata": {},
     "output_type": "execute_result"
    }
   ],
   "source": [
    "text"
   ]
  },
  {
   "cell_type": "code",
   "execution_count": 13,
   "metadata": {},
   "outputs": [
    {
     "data": {
      "text/plain": [
       "pandas.core.frame.DataFrame"
      ]
     },
     "execution_count": 13,
     "metadata": {},
     "output_type": "execute_result"
    }
   ],
   "source": [
    "type(text)"
   ]
  },
  {
   "cell_type": "code",
   "execution_count": 14,
   "metadata": {},
   "outputs": [],
   "source": [
    "text2 = pd.DataFrame(text.text.unique())"
   ]
  },
  {
   "cell_type": "code",
   "execution_count": 15,
   "metadata": {},
   "outputs": [
    {
     "data": {
      "text/html": [
       "<div>\n",
       "<style scoped>\n",
       "    .dataframe tbody tr th:only-of-type {\n",
       "        vertical-align: middle;\n",
       "    }\n",
       "\n",
       "    .dataframe tbody tr th {\n",
       "        vertical-align: top;\n",
       "    }\n",
       "\n",
       "    .dataframe thead th {\n",
       "        text-align: right;\n",
       "    }\n",
       "</style>\n",
       "<table border=\"1\" class=\"dataframe\">\n",
       "  <thead>\n",
       "    <tr style=\"text-align: right;\">\n",
       "      <th></th>\n",
       "      <th>0</th>\n",
       "    </tr>\n",
       "  </thead>\n",
       "  <tbody>\n",
       "    <tr>\n",
       "      <th>0</th>\n",
       "      <td>What is threatening if governors don't do what he wants is to emulate Communist China's crackdown on dissent in Hong Kong Answer me this has Trump learned his lesson yet The blood of innocent ppl is on ur hands now U should ve voted to convict</td>\n",
       "    </tr>\n",
       "    <tr>\n",
       "      <th>1</th>\n",
       "      <td>After this cannot criticize anymore</td>\n",
       "    </tr>\n",
       "    <tr>\n",
       "      <th>2</th>\n",
       "      <td>Asian set to follow U S shares higher Tuesday as focused on signs of recovery over further U S China tensions and spreading protests in America The slumped and futures indicated gains in Tokyo Sydney and Hong Kong</td>\n",
       "    </tr>\n",
       "    <tr>\n",
       "      <th>3</th>\n",
       "      <td>Pfft This coming from a company that caved to China because someone spoke for the Hong Kong people on the Hearthstone esports Sure thing</td>\n",
       "    </tr>\n",
       "    <tr>\n",
       "      <th>4</th>\n",
       "      <td>In 1989 Donald Trump praised the Chinese crackdown in Tiananmen Square and this is the man that will heal America the leadership in China and Russia are laughing People in America are crying like those in Hong Kong Trump Pompeo are racist hypocrites</td>\n",
       "    </tr>\n",
       "    <tr>\n",
       "      <th>...</th>\n",
       "      <td>...</td>\n",
       "    </tr>\n",
       "    <tr>\n",
       "      <th>15698</th>\n",
       "      <td>We in this together beloved</td>\n",
       "    </tr>\n",
       "    <tr>\n",
       "      <th>15699</th>\n",
       "      <td>Tell that to Hong Kong Taiwán it must be frustrating see people with USA flags see lady Liberty erected on the midle of Tianan Men square in 1990 you go against the human nature and thats the reason why China people will be free</td>\n",
       "    </tr>\n",
       "    <tr>\n",
       "      <th>15700</th>\n",
       "      <td>Freedom Will arise more soon than later</td>\n",
       "    </tr>\n",
       "    <tr>\n",
       "      <th>15701</th>\n",
       "      <td>Without a free South China Sea Hong Kong will also die soon</td>\n",
       "    </tr>\n",
       "    <tr>\n",
       "      <th>15702</th>\n",
       "      <td>If China imposes its national security law the British government will change our immigration rules said Boris Johnson</td>\n",
       "    </tr>\n",
       "  </tbody>\n",
       "</table>\n",
       "<p>15703 rows × 1 columns</p>\n",
       "</div>"
      ],
      "text/plain": [
       "                                                                                                                                                                                                                                                                0\n",
       "0             What is threatening if governors don't do what he wants is to emulate Communist China's crackdown on dissent in Hong Kong Answer me this has Trump learned his lesson yet The blood of innocent ppl is on ur hands now U should ve voted to convict\n",
       "1                                                                                                                                                                                                                            After this cannot criticize anymore \n",
       "2                                          Asian set to follow U S shares higher Tuesday as focused on signs of recovery over further U S China tensions and spreading protests in America The slumped and futures indicated gains in Tokyo Sydney and Hong Kong \n",
       "3                                                                                                                       Pfft This coming from a company that caved to China because someone spoke for the Hong Kong people on the Hearthstone esports Sure thing \n",
       "4      In 1989 Donald Trump praised the Chinese crackdown in Tiananmen Square and this is the man that will heal America the leadership in China and Russia are laughing People in America are crying like those in Hong Kong Trump Pompeo are racist hypocrites \n",
       "...                                                                                                                                                                                                                                                           ...\n",
       "15698                                                                                                                                                                                                                                We in this together beloved \n",
       "15699                       Tell that to Hong Kong Taiwán it must be frustrating see people with USA flags see lady Liberty erected on the midle of Tianan Men square in 1990 you go against the human nature and thats the reason why China people will be free \n",
       "15700                                                                                                                                                                                                                    Freedom Will arise more soon than later \n",
       "15701                                                                                                                                                                                                Without a free South China Sea Hong Kong will also die soon \n",
       "15702                                                                                                                                     If China imposes its national security law the British government will change our immigration rules said Boris Johnson \n",
       "\n",
       "[15703 rows x 1 columns]"
      ]
     },
     "execution_count": 15,
     "metadata": {},
     "output_type": "execute_result"
    }
   ],
   "source": [
    "text2"
   ]
  },
  {
   "cell_type": "code",
   "execution_count": 16,
   "metadata": {},
   "outputs": [],
   "source": [
    "text2.rename(columns={0 : 'text'}, inplace=True)"
   ]
  },
  {
   "cell_type": "code",
   "execution_count": 17,
   "metadata": {},
   "outputs": [],
   "source": [
    "text2 = text2.reindex((text2.text.str.len()).argsort()).reset_index(drop=True)"
   ]
  },
  {
   "cell_type": "code",
   "execution_count": 18,
   "metadata": {},
   "outputs": [
    {
     "data": {
      "text/html": [
       "<div>\n",
       "<style scoped>\n",
       "    .dataframe tbody tr th:only-of-type {\n",
       "        vertical-align: middle;\n",
       "    }\n",
       "\n",
       "    .dataframe tbody tr th {\n",
       "        vertical-align: top;\n",
       "    }\n",
       "\n",
       "    .dataframe thead th {\n",
       "        text-align: right;\n",
       "    }\n",
       "</style>\n",
       "<table border=\"1\" class=\"dataframe\">\n",
       "  <thead>\n",
       "    <tr style=\"text-align: right;\">\n",
       "      <th></th>\n",
       "      <th>text</th>\n",
       "    </tr>\n",
       "  </thead>\n",
       "  <tbody>\n",
       "    <tr>\n",
       "      <th>0</th>\n",
       "      <td>V</td>\n",
       "    </tr>\n",
       "    <tr>\n",
       "      <th>1</th>\n",
       "      <td>T</td>\n",
       "    </tr>\n",
       "    <tr>\n",
       "      <th>2</th>\n",
       "      <td>P1</td>\n",
       "    </tr>\n",
       "    <tr>\n",
       "      <th>3</th>\n",
       "      <td>x</td>\n",
       "    </tr>\n",
       "    <tr>\n",
       "      <th>4</th>\n",
       "      <td>or</td>\n",
       "    </tr>\n",
       "    <tr>\n",
       "      <th>...</th>\n",
       "      <td>...</td>\n",
       "    </tr>\n",
       "    <tr>\n",
       "      <th>15698</th>\n",
       "      <td>Only reason why us politicians praise Hong Kong protesters but hate protesters in the us is because Hong Kong is protesting the encroachment of China and we all know how much politicians hate China and they have a way of directing their xenophobia for China via Hong Kongs protest</td>\n",
       "    </tr>\n",
       "    <tr>\n",
       "      <th>15699</th>\n",
       "      <td>Protestá por la represión china en Hong Kong por el virus chino que afecta al mundo por la desaparición forzada de Luis Espinoza a manos de la policía brava de Tucumán por los millones de argentinos que no pueden trabajar por los infantes de marina asesinados en Uruguay pelotudo</td>\n",
       "    </tr>\n",
       "    <tr>\n",
       "      <th>15700</th>\n",
       "      <td>Opinar sobre a China c relação a Hong Kong é fácil naqele papel ridículo d defensor da democracia no mundo mas cmo se nem dar jeito na própria casa ele consegue E tudo p manter a postura d branco dominante's se importar c vidas negras americanas perdidas para a truculência clara</td>\n",
       "    </tr>\n",
       "    <tr>\n",
       "      <th>15701</th>\n",
       "      <td>Ela conseguiu enxergar que é o comunismo socialismo da Venezuela de cuba a fome a desgraça de um país a China onde todos dependem do governo todos são obrigados a fazer o que o governo manda Hong Kong ser estuprada pela China para o lado do bem governo com 600 dias sem corrupção</td>\n",
       "    </tr>\n",
       "    <tr>\n",
       "      <th>15702</th>\n",
       "      <td>If it's so thn achievement enemy where's any doubt u bein once poverty ridden country now number 2 economicaly always acknowledg appreciat applauded but hey but thn who misguided u 2 destroy urself bein suicidal takin fyt frm south china sea 2 Hong Kong Tibet leh Ladakh australia</td>\n",
       "    </tr>\n",
       "  </tbody>\n",
       "</table>\n",
       "<p>15703 rows × 1 columns</p>\n",
       "</div>"
      ],
      "text/plain": [
       "                                                                                                                                                                                                                                                                                            text\n",
       "0                                                                                                                                                                                                                                                                                              V\n",
       "1                                                                                                                                                                                                                                                                                              T\n",
       "2                                                                                                                                                                                                                                                                                             P1\n",
       "3                                                                                                                                                                                                                                                                                             x \n",
       "4                                                                                                                                                                                                                                                                                             or\n",
       "...                                                                                                                                                                                                                                                                                          ...\n",
       "15698   Only reason why us politicians praise Hong Kong protesters but hate protesters in the us is because Hong Kong is protesting the encroachment of China and we all know how much politicians hate China and they have a way of directing their xenophobia for China via Hong Kongs protest\n",
       "15699   Protestá por la represión china en Hong Kong por el virus chino que afecta al mundo por la desaparición forzada de Luis Espinoza a manos de la policía brava de Tucumán por los millones de argentinos que no pueden trabajar por los infantes de marina asesinados en Uruguay pelotudo \n",
       "15700   Opinar sobre a China c relação a Hong Kong é fácil naqele papel ridículo d defensor da democracia no mundo mas cmo se nem dar jeito na própria casa ele consegue E tudo p manter a postura d branco dominante's se importar c vidas negras americanas perdidas para a truculência clara \n",
       "15701   Ela conseguiu enxergar que é o comunismo socialismo da Venezuela de cuba a fome a desgraça de um país a China onde todos dependem do governo todos são obrigados a fazer o que o governo manda Hong Kong ser estuprada pela China para o lado do bem governo com 600 dias sem corrupção \n",
       "15702  If it's so thn achievement enemy where's any doubt u bein once poverty ridden country now number 2 economicaly always acknowledg appreciat applauded but hey but thn who misguided u 2 destroy urself bein suicidal takin fyt frm south china sea 2 Hong Kong Tibet leh Ladakh australia \n",
       "\n",
       "[15703 rows x 1 columns]"
      ]
     },
     "execution_count": 18,
     "metadata": {},
     "output_type": "execute_result"
    }
   ],
   "source": [
    "text2"
   ]
  },
  {
   "cell_type": "code",
   "execution_count": 19,
   "metadata": {},
   "outputs": [],
   "source": [
    "mask = (text2['text'].str.len() >= 250)"
   ]
  },
  {
   "cell_type": "code",
   "execution_count": 20,
   "metadata": {},
   "outputs": [
    {
     "name": "stdout",
     "output_type": "stream",
     "text": [
      "15703\n"
     ]
    }
   ],
   "source": [
    "filt = mask.count()\n",
    "print(filt)"
   ]
  },
  {
   "cell_type": "code",
   "execution_count": 21,
   "metadata": {},
   "outputs": [],
   "source": [
    "if (filt == 0):\n",
    "    mask = (text2['text'].str.len() >= 100)"
   ]
  },
  {
   "cell_type": "code",
   "execution_count": 22,
   "metadata": {},
   "outputs": [
    {
     "name": "stdout",
     "output_type": "stream",
     "text": [
      "15703\n"
     ]
    }
   ],
   "source": [
    "print(mask.count())"
   ]
  },
  {
   "cell_type": "code",
   "execution_count": 23,
   "metadata": {},
   "outputs": [],
   "source": [
    "text3 = text2.loc[mask].reset_index(drop = True)"
   ]
  },
  {
   "cell_type": "code",
   "execution_count": 24,
   "metadata": {},
   "outputs": [
    {
     "data": {
      "text/html": [
       "<div>\n",
       "<style scoped>\n",
       "    .dataframe tbody tr th:only-of-type {\n",
       "        vertical-align: middle;\n",
       "    }\n",
       "\n",
       "    .dataframe tbody tr th {\n",
       "        vertical-align: top;\n",
       "    }\n",
       "\n",
       "    .dataframe thead th {\n",
       "        text-align: right;\n",
       "    }\n",
       "</style>\n",
       "<table border=\"1\" class=\"dataframe\">\n",
       "  <thead>\n",
       "    <tr style=\"text-align: right;\">\n",
       "      <th></th>\n",
       "      <th>text</th>\n",
       "    </tr>\n",
       "  </thead>\n",
       "  <tbody>\n",
       "    <tr>\n",
       "      <th>0</th>\n",
       "      <td>Does pompeo think China really wants the rioters who took part in the Hong Kong riots to stay in China and stay in Hong Kong These running dogs and garbage the Chinese people would very much like the United States and the United Kingdom to take them</td>\n",
       "    </tr>\n",
       "    <tr>\n",
       "      <th>1</th>\n",
       "      <td>State owned Chinese firms bought at least three cargoes of U S soybeans on Monday even as sources in China said the government had told them to halt purchases after Washington said it would eliminate special treatment for Hong Kong to punish Beijing</td>\n",
       "    </tr>\n",
       "    <tr>\n",
       "      <th>2</th>\n",
       "      <td>I just hope that everyone who condemned Blizzard for their actions against Hong Kong are equally condemning Trump who has stated he does not recognize Hong Kong as different from China in terms of future trade embargos Or are we just mad at Blizzard</td>\n",
       "    </tr>\n",
       "    <tr>\n",
       "      <th>3</th>\n",
       "      <td>We do not intend to take conspiracy theories lightly but when we look at the series of events from the U S China trade war to the Hong Kong riots the Wuhan virus and the American riots we can see that the Chinese Communist Party is planning to do so</td>\n",
       "    </tr>\n",
       "    <tr>\n",
       "      <th>4</th>\n",
       "      <td>No it was not The lease was up in 1997 Since then there has been a 50 year plan to fully transition Honk Kong to China Extradition laws passed last year are what caused the protests Hong Kong will still retain it's own currency and system until 2047</td>\n",
       "    </tr>\n",
       "    <tr>\n",
       "      <th>...</th>\n",
       "      <td>...</td>\n",
       "    </tr>\n",
       "    <tr>\n",
       "      <th>1344</th>\n",
       "      <td>Only reason why us politicians praise Hong Kong protesters but hate protesters in the us is because Hong Kong is protesting the encroachment of China and we all know how much politicians hate China and they have a way of directing their xenophobia for China via Hong Kongs protest</td>\n",
       "    </tr>\n",
       "    <tr>\n",
       "      <th>1345</th>\n",
       "      <td>Protestá por la represión china en Hong Kong por el virus chino que afecta al mundo por la desaparición forzada de Luis Espinoza a manos de la policía brava de Tucumán por los millones de argentinos que no pueden trabajar por los infantes de marina asesinados en Uruguay pelotudo</td>\n",
       "    </tr>\n",
       "    <tr>\n",
       "      <th>1346</th>\n",
       "      <td>Opinar sobre a China c relação a Hong Kong é fácil naqele papel ridículo d defensor da democracia no mundo mas cmo se nem dar jeito na própria casa ele consegue E tudo p manter a postura d branco dominante's se importar c vidas negras americanas perdidas para a truculência clara</td>\n",
       "    </tr>\n",
       "    <tr>\n",
       "      <th>1347</th>\n",
       "      <td>Ela conseguiu enxergar que é o comunismo socialismo da Venezuela de cuba a fome a desgraça de um país a China onde todos dependem do governo todos são obrigados a fazer o que o governo manda Hong Kong ser estuprada pela China para o lado do bem governo com 600 dias sem corrupção</td>\n",
       "    </tr>\n",
       "    <tr>\n",
       "      <th>1348</th>\n",
       "      <td>If it's so thn achievement enemy where's any doubt u bein once poverty ridden country now number 2 economicaly always acknowledg appreciat applauded but hey but thn who misguided u 2 destroy urself bein suicidal takin fyt frm south china sea 2 Hong Kong Tibet leh Ladakh australia</td>\n",
       "    </tr>\n",
       "  </tbody>\n",
       "</table>\n",
       "<p>1349 rows × 1 columns</p>\n",
       "</div>"
      ],
      "text/plain": [
       "                                                                                                                                                                                                                                                                                           text\n",
       "0                                    Does pompeo think China really wants the rioters who took part in the Hong Kong riots to stay in China and stay in Hong Kong These running dogs and garbage the Chinese people would very much like the United States and the United Kingdom to take them \n",
       "1                                    State owned Chinese firms bought at least three cargoes of U S soybeans on Monday even as sources in China said the government had told them to halt purchases after Washington said it would eliminate special treatment for Hong Kong to punish Beijing \n",
       "2                                    I just hope that everyone who condemned Blizzard for their actions against Hong Kong are equally condemning Trump who has stated he does not recognize Hong Kong as different from China in terms of future trade embargos Or are we just mad at Blizzard \n",
       "3                                    We do not intend to take conspiracy theories lightly but when we look at the series of events from the U S China trade war to the Hong Kong riots the Wuhan virus and the American riots we can see that the Chinese Communist Party is planning to do so \n",
       "4                                    No it was not The lease was up in 1997 Since then there has been a 50 year plan to fully transition Honk Kong to China Extradition laws passed last year are what caused the protests Hong Kong will still retain it's own currency and system until 2047 \n",
       "...                                                                                                                                                                                                                                                                                         ...\n",
       "1344   Only reason why us politicians praise Hong Kong protesters but hate protesters in the us is because Hong Kong is protesting the encroachment of China and we all know how much politicians hate China and they have a way of directing their xenophobia for China via Hong Kongs protest\n",
       "1345   Protestá por la represión china en Hong Kong por el virus chino que afecta al mundo por la desaparición forzada de Luis Espinoza a manos de la policía brava de Tucumán por los millones de argentinos que no pueden trabajar por los infantes de marina asesinados en Uruguay pelotudo \n",
       "1346   Opinar sobre a China c relação a Hong Kong é fácil naqele papel ridículo d defensor da democracia no mundo mas cmo se nem dar jeito na própria casa ele consegue E tudo p manter a postura d branco dominante's se importar c vidas negras americanas perdidas para a truculência clara \n",
       "1347   Ela conseguiu enxergar que é o comunismo socialismo da Venezuela de cuba a fome a desgraça de um país a China onde todos dependem do governo todos são obrigados a fazer o que o governo manda Hong Kong ser estuprada pela China para o lado do bem governo com 600 dias sem corrupção \n",
       "1348  If it's so thn achievement enemy where's any doubt u bein once poverty ridden country now number 2 economicaly always acknowledg appreciat applauded but hey but thn who misguided u 2 destroy urself bein suicidal takin fyt frm south china sea 2 Hong Kong Tibet leh Ladakh australia \n",
       "\n",
       "[1349 rows x 1 columns]"
      ]
     },
     "execution_count": 24,
     "metadata": {},
     "output_type": "execute_result"
    }
   ],
   "source": [
    "text3"
   ]
  },
  {
   "cell_type": "code",
   "execution_count": 25,
   "metadata": {},
   "outputs": [
    {
     "data": {
      "text/plain": [
       "1349"
      ]
     },
     "execution_count": 25,
     "metadata": {},
     "output_type": "execute_result"
    }
   ],
   "source": [
    "len(text3)"
   ]
  },
  {
   "cell_type": "code",
   "execution_count": 26,
   "metadata": {},
   "outputs": [
    {
     "name": "stdout",
     "output_type": "stream",
     "text": [
      "hongchina10620203062020_originalc.tmp\n",
      "hongchina10620203062020_originald.txt\n"
     ]
    }
   ],
   "source": [
    "dn3 = os.path.split(original_file)[1].replace('.csv', 'c') + \".tmp\"\n",
    "print(dn3)\n",
    "dn4 = os.path.split(original_file)[1].replace('.csv', 'd') + \".txt\"\n",
    "print(dn4)"
   ]
  },
  {
   "cell_type": "code",
   "execution_count": 27,
   "metadata": {},
   "outputs": [
    {
     "name": "stdout",
     "output_type": "stream",
     "text": [
      "/media/ambijat/Datrat/ipytoneeee/CNUS/processed2/hongchina10620203062020_originalc.tmp\n",
      "/media/ambijat/Datrat/ipytoneeee/CNUS/processed2/hongchina10620203062020_originald.txt\n"
     ]
    }
   ],
   "source": [
    "p3_file = path_to_process + \"/\" + dn3\n",
    "print(p3_file)\n",
    "p4_file = path_to_process + \"/\" + dn4\n",
    "print(p4_file)"
   ]
  },
  {
   "cell_type": "code",
   "execution_count": 28,
   "metadata": {},
   "outputs": [],
   "source": [
    "text3['text'].to_csv(p3_file, header = False, index = False)"
   ]
  },
  {
   "cell_type": "code",
   "execution_count": 29,
   "metadata": {},
   "outputs": [],
   "source": [
    "#insert blank line after each line.\n",
    "! cat $p3_file | awk 'ORS=\"\\n\\n\"' > $p4_file"
   ]
  },
  {
   "cell_type": "code",
   "execution_count": 30,
   "metadata": {},
   "outputs": [],
   "source": [
    "! rm $p3_file\n",
    "! rm $p2_file"
   ]
  },
  {
   "cell_type": "code",
   "execution_count": null,
   "metadata": {},
   "outputs": [],
   "source": [
    "#last step is to convert the p4_file reference into pdf format by opening it in libreoffice."
   ]
  }
 ],
 "metadata": {
  "kernelspec": {
   "display_name": "Python 3",
   "language": "python",
   "name": "python3"
  },
  "language_info": {
   "codemirror_mode": {
    "name": "ipython",
    "version": 3
   },
   "file_extension": ".py",
   "mimetype": "text/x-python",
   "name": "python",
   "nbconvert_exporter": "python",
   "pygments_lexer": "ipython3",
   "version": "3.8.2"
  }
 },
 "nbformat": 4,
 "nbformat_minor": 4
}
