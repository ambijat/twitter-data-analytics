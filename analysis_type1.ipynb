{
 "cells": [
  {
   "cell_type": "markdown",
   "metadata": {},
   "source": [
    "# First Step: Importing Tweets stored as JSON file."
   ]
  },
  {
   "cell_type": "code",
   "execution_count": 1,
   "metadata": {},
   "outputs": [],
   "source": [
    "import pandas as pd \n",
    "import glob\n",
    "import os"
   ]
  },
  {
   "cell_type": "markdown",
   "metadata": {},
   "source": [
    "## Reading all the `JSON` files from the folder. \n",
    "- providing the folder path\n",
    "- creating and empyty list with a name `filelist`.\n",
    "- glob. glob creates a string value of path for all files in the folder and populates the `filelist`.\n",
    "- glob.iglob could also be used with `(os.path.join)` method. Example, `filelist = glob.iglob(os.path.join(raw_data_path, \"*.json\"))`."
   ]
  },
  {
   "cell_type": "code",
   "execution_count": 4,
   "metadata": {},
   "outputs": [
    {
     "name": "stdin",
     "output_type": "stream",
     "text": [
      "Enter the path for raw data file:  /media/ambijat/Datrat/ipytoneeee/CNUS\n"
     ]
    },
    {
     "name": "stdout",
     "output_type": "stream",
     "text": [
      "['/media/ambijat/Datrat/ipytoneeee/CNUS/CHIIND03Jun2020_2224.json']\n"
     ]
    }
   ],
   "source": [
    "raw_data_path = input(\"Enter the path for raw data file: \")\n",
    "filelist = []\n",
    "filelist = glob.glob(raw_data_path + \"/\" + \"*.json\")\n",
    "print(filelist)"
   ]
  },
  {
   "cell_type": "markdown",
   "metadata": {},
   "source": [
    "##### Above varialbe `filelist` is a list output with string of `json` file path. Each of the item in list are iterable for next stage of processing."
   ]
  },
  {
   "cell_type": "markdown",
   "metadata": {},
   "source": [
    "### Defining path to export the processed tweets into `CSV` file.\n",
    "- `os.path.join` combines the folder path with the new file named `tweets.csv`.\n",
    "- the newfile `tweets.csv` will contain all dressed up tweets ready for further analysis.\n",
    "- this is the basic file for all future operations.\n",
    "\n",
    "### String address for the `tweets.csv` is created below."
   ]
  },
  {
   "cell_type": "code",
   "execution_count": 5,
   "metadata": {},
   "outputs": [
    {
     "name": "stdout",
     "output_type": "stream",
     "text": [
      "/media/ambijat/Datrat/ipytoneeee/CNUS\n",
      "/media/ambijat/Datrat/ipytoneeee/CNUS/tweets.csv\n"
     ]
    }
   ],
   "source": [
    "print(raw_data_path)\n",
    "store_file = os.path.join(raw_data_path, 'tweets.csv')\n",
    "print(store_file)"
   ]
  },
  {
   "cell_type": "markdown",
   "metadata": {},
   "source": [
    "## 2. Processing of `JSON` file with the help of `BASH` shell.\n",
    "- 'Bash` is a terrific tool for handling files that run are Gbs in size.\n",
    "- it is important to correctly reference variable use between python and `bash` shell.\n",
    "- use of `$` sign is important to create reference for variable in bash use.\n",
    "\n",
    "### Using json query `jq` for stripping the tweet that has many header keys.\n",
    "- There is a strong reason for introducing `bash` here.\n",
    "- I can work on even 8-10 Gigabytes of file size which is very difficult under python.\n",
    "- also the export of tweet heads are smooth and quick.\n",
    "\n",
    "### `$store_file` is the path for exporting all the tweets.\n",
    "\n",
    "##### Remember the `$store_file`, which takes all the data. I use `!rm` to remove any previously present file because of `>>` that is used to append the tweets."
   ]
  },
  {
   "cell_type": "code",
   "execution_count": 6,
   "metadata": {},
   "outputs": [
    {
     "name": "stdout",
     "output_type": "stream",
     "text": [
      "rm: cannot remove '/media/ambijat/Datrat/ipytoneeee/CNUS/tweets.csv': No such file or directory\n",
      "/media/ambijat/Datrat/ipytoneeee/CNUS/CHIIND03Jun2020_2224.json\n"
     ]
    }
   ],
   "source": [
    "!rm $store_file\n",
    "\n",
    "for file in filelist:\n",
    "    ! echo $file\n",
    "    ! jq -r '[.user.screen_name, .retweeted_status.user.screen_name, .full_text, .display_text_range[1], .created_at, .id, .in_reply_to_user_id, .user.location] | @csv' < $file >> $store_file"
   ]
  },
  {
   "cell_type": "markdown",
   "metadata": {},
   "source": [
    "### Importing the Dressed Up Tweet data.\n",
    "- Defining the column names for placing the imported tweet.\n",
    "- declaring the `DataFrame`.\n",
    "- Reading the data with names given by `column_names`.\n",
    "#### retrieving and visualising the tweets."
   ]
  },
  {
   "cell_type": "code",
   "execution_count": 7,
   "metadata": {},
   "outputs": [],
   "source": [
    "column_names = [ \"user\", \"reuser\", \"full_text\", \"range\", \"created_at\", \"id\", \"in_reply_to_user_id\", \"user.location\"]\n",
    "tweets = pd.DataFrame\n",
    "tweets = pd.read_csv(store_file, header = None, names = column_names, low_memory = False)"
   ]
  },
  {
   "cell_type": "markdown",
   "metadata": {},
   "source": [
    "##### A successful import of tweets can be inspected by using the `head()` function."
   ]
  },
  {
   "cell_type": "code",
   "execution_count": 8,
   "metadata": {},
   "outputs": [
    {
     "data": {
      "text/html": [
       "<div>\n",
       "<style scoped>\n",
       "    .dataframe tbody tr th:only-of-type {\n",
       "        vertical-align: middle;\n",
       "    }\n",
       "\n",
       "    .dataframe tbody tr th {\n",
       "        vertical-align: top;\n",
       "    }\n",
       "\n",
       "    .dataframe thead th {\n",
       "        text-align: right;\n",
       "    }\n",
       "</style>\n",
       "<table border=\"1\" class=\"dataframe\">\n",
       "  <thead>\n",
       "    <tr style=\"text-align: right;\">\n",
       "      <th></th>\n",
       "      <th>user</th>\n",
       "      <th>reuser</th>\n",
       "      <th>full_text</th>\n",
       "      <th>range</th>\n",
       "      <th>created_at</th>\n",
       "      <th>id</th>\n",
       "      <th>in_reply_to_user_id</th>\n",
       "      <th>user.location</th>\n",
       "    </tr>\n",
       "  </thead>\n",
       "  <tbody>\n",
       "    <tr>\n",
       "      <th>0</th>\n",
       "      <td>TomWong93767868</td>\n",
       "      <td>SkyNews</td>\n",
       "      <td>RT @SkyNews: The PM has pledged to allow nearl...</td>\n",
       "      <td>139</td>\n",
       "      <td>Wed Jun 03 16:54:54 +0000 2020</td>\n",
       "      <td>1268224655061479400</td>\n",
       "      <td>NaN</td>\n",
       "      <td>NaN</td>\n",
       "    </tr>\n",
       "    <tr>\n",
       "      <th>1</th>\n",
       "      <td>98h33654581</td>\n",
       "      <td>HongKongFP</td>\n",
       "      <td>RT @HongKongFP: [Recap] Pompeo says China is t...</td>\n",
       "      <td>135</td>\n",
       "      <td>Wed Jun 03 16:54:54 +0000 2020</td>\n",
       "      <td>1268224652993630200</td>\n",
       "      <td>NaN</td>\n",
       "      <td>NaN</td>\n",
       "    </tr>\n",
       "    <tr>\n",
       "      <th>2</th>\n",
       "      <td>tckj725</td>\n",
       "      <td>Reuters</td>\n",
       "      <td>RT @Reuters: HSBC says it supports China's sec...</td>\n",
       "      <td>117</td>\n",
       "      <td>Wed Jun 03 16:54:53 +0000 2020</td>\n",
       "      <td>1268224650112200700</td>\n",
       "      <td>NaN</td>\n",
       "      <td>Australia、Hong kong</td>\n",
       "    </tr>\n",
       "    <tr>\n",
       "      <th>3</th>\n",
       "      <td>kizza_marxel</td>\n",
       "      <td>nytimes</td>\n",
       "      <td>RT @nytimes: Breaking News: Prime Minister Bor...</td>\n",
       "      <td>140</td>\n",
       "      <td>Wed Jun 03 16:54:51 +0000 2020</td>\n",
       "      <td>1268224642839240700</td>\n",
       "      <td>NaN</td>\n",
       "      <td>NaN</td>\n",
       "    </tr>\n",
       "    <tr>\n",
       "      <th>4</th>\n",
       "      <td>PilotAbilene</td>\n",
       "      <td>Steinhoefel</td>\n",
       "      <td>RT @Steinhoefel: Einwanderung, aber richtig. I...</td>\n",
       "      <td>140</td>\n",
       "      <td>Wed Jun 03 16:54:51 +0000 2020</td>\n",
       "      <td>1268224642390593500</td>\n",
       "      <td>NaN</td>\n",
       "      <td>Shermany</td>\n",
       "    </tr>\n",
       "  </tbody>\n",
       "</table>\n",
       "</div>"
      ],
      "text/plain": [
       "              user       reuser  \\\n",
       "0  TomWong93767868      SkyNews   \n",
       "1      98h33654581   HongKongFP   \n",
       "2          tckj725      Reuters   \n",
       "3     kizza_marxel      nytimes   \n",
       "4     PilotAbilene  Steinhoefel   \n",
       "\n",
       "                                           full_text  range  \\\n",
       "0  RT @SkyNews: The PM has pledged to allow nearl...    139   \n",
       "1  RT @HongKongFP: [Recap] Pompeo says China is t...    135   \n",
       "2  RT @Reuters: HSBC says it supports China's sec...    117   \n",
       "3  RT @nytimes: Breaking News: Prime Minister Bor...    140   \n",
       "4  RT @Steinhoefel: Einwanderung, aber richtig. I...    140   \n",
       "\n",
       "                       created_at                   id  in_reply_to_user_id  \\\n",
       "0  Wed Jun 03 16:54:54 +0000 2020  1268224655061479400                  NaN   \n",
       "1  Wed Jun 03 16:54:54 +0000 2020  1268224652993630200                  NaN   \n",
       "2  Wed Jun 03 16:54:53 +0000 2020  1268224650112200700                  NaN   \n",
       "3  Wed Jun 03 16:54:51 +0000 2020  1268224642839240700                  NaN   \n",
       "4  Wed Jun 03 16:54:51 +0000 2020  1268224642390593500                  NaN   \n",
       "\n",
       "         user.location  \n",
       "0                  NaN  \n",
       "1                  NaN  \n",
       "2  Australia、Hong kong  \n",
       "3                  NaN  \n",
       "4             Shermany  "
      ]
     },
     "execution_count": 8,
     "metadata": {},
     "output_type": "execute_result"
    }
   ],
   "source": [
    "tweets.head()"
   ]
  },
  {
   "cell_type": "markdown",
   "metadata": {},
   "source": [
    "### Removal of duplicate tweets.\n",
    "- counting the number of tweets by their `id` and using `unique` function to deduce the number of duplicate tweets.\n",
    "- each tweet has unique `id`, which can used to find duplicate tweets. If `id` is more than once."
   ]
  },
  {
   "cell_type": "code",
   "execution_count": 9,
   "metadata": {},
   "outputs": [
    {
     "name": "stdout",
     "output_type": "stream",
     "text": [
      "116018\n",
      "116017\n",
      "1\n"
     ]
    }
   ],
   "source": [
    "print(len(tweets))\n",
    "print(len(tweets.id.unique()))\n",
    "print(len(tweets) - len(tweets.id.unique()))"
   ]
  },
  {
   "cell_type": "markdown",
   "metadata": {},
   "source": [
    "### New dataframe `tweets2` created after dropping duplicates.\n",
    "### drop duplicate tweets by tweet `id` as each tweet has its unique token under column `id`.\n",
    "- number of duplicate tweets should be 0, before further processing.\n",
    "- using the `drop_duplicates()` function."
   ]
  },
  {
   "cell_type": "code",
   "execution_count": 10,
   "metadata": {},
   "outputs": [],
   "source": [
    "tweets2 = tweets.drop_duplicates(subset='id', keep=\"first\").copy()"
   ]
  },
  {
   "cell_type": "markdown",
   "metadata": {},
   "source": [
    "#### rexamining the removal of the duplicate tweets. The score is equal to the previous cell result."
   ]
  },
  {
   "cell_type": "code",
   "execution_count": 11,
   "metadata": {},
   "outputs": [
    {
     "data": {
      "text/plain": [
       "116017"
      ]
     },
     "execution_count": 11,
     "metadata": {},
     "output_type": "execute_result"
    }
   ],
   "source": [
    "len(tweets2)"
   ]
  },
  {
   "cell_type": "markdown",
   "metadata": {},
   "source": [
    "## 3. Extraction of Tweets Datewise.\n",
    "#### The function `to_datetime` is used to extract date element from column `created_at`.\n",
    "##### This is used for further numeric operations and filtering of the tweets based on dates.\n",
    "#### segregating tweets2 based on dates, step 1."
   ]
  },
  {
   "cell_type": "code",
   "execution_count": 12,
   "metadata": {},
   "outputs": [],
   "source": [
    "tweets2['date'] = pd.to_datetime(tweets2['created_at'], errors='coerce')"
   ]
  },
  {
   "cell_type": "code",
   "execution_count": 13,
   "metadata": {},
   "outputs": [
    {
     "data": {
      "text/plain": [
       "user                                object\n",
       "reuser                              object\n",
       "full_text                           object\n",
       "range                                int64\n",
       "created_at                          object\n",
       "id                                   int64\n",
       "in_reply_to_user_id                float64\n",
       "user.location                       object\n",
       "date                   datetime64[ns, UTC]\n",
       "dtype: object"
      ]
     },
     "execution_count": 13,
     "metadata": {},
     "output_type": "execute_result"
    }
   ],
   "source": [
    "tweets2.dtypes"
   ]
  },
  {
   "cell_type": "markdown",
   "metadata": {},
   "source": [
    "##### The use of `errors='coerce'` shall give output as `NA` in dates, where thereis non-conformity.\n",
    "##### The `Date` column has produced dates in `yy-m-d h-m-s` format."
   ]
  },
  {
   "cell_type": "code",
   "execution_count": 14,
   "metadata": {},
   "outputs": [
    {
     "data": {
      "text/html": [
       "<div>\n",
       "<style scoped>\n",
       "    .dataframe tbody tr th:only-of-type {\n",
       "        vertical-align: middle;\n",
       "    }\n",
       "\n",
       "    .dataframe tbody tr th {\n",
       "        vertical-align: top;\n",
       "    }\n",
       "\n",
       "    .dataframe thead th {\n",
       "        text-align: right;\n",
       "    }\n",
       "</style>\n",
       "<table border=\"1\" class=\"dataframe\">\n",
       "  <thead>\n",
       "    <tr style=\"text-align: right;\">\n",
       "      <th></th>\n",
       "      <th>user</th>\n",
       "      <th>reuser</th>\n",
       "      <th>full_text</th>\n",
       "      <th>range</th>\n",
       "      <th>created_at</th>\n",
       "      <th>id</th>\n",
       "      <th>in_reply_to_user_id</th>\n",
       "      <th>user.location</th>\n",
       "      <th>date</th>\n",
       "    </tr>\n",
       "  </thead>\n",
       "  <tbody>\n",
       "    <tr>\n",
       "      <th>0</th>\n",
       "      <td>TomWong93767868</td>\n",
       "      <td>SkyNews</td>\n",
       "      <td>RT @SkyNews: The PM has pledged to allow nearl...</td>\n",
       "      <td>139</td>\n",
       "      <td>Wed Jun 03 16:54:54 +0000 2020</td>\n",
       "      <td>1268224655061479400</td>\n",
       "      <td>NaN</td>\n",
       "      <td>NaN</td>\n",
       "      <td>2020-06-03 16:54:54+00:00</td>\n",
       "    </tr>\n",
       "    <tr>\n",
       "      <th>1</th>\n",
       "      <td>98h33654581</td>\n",
       "      <td>HongKongFP</td>\n",
       "      <td>RT @HongKongFP: [Recap] Pompeo says China is t...</td>\n",
       "      <td>135</td>\n",
       "      <td>Wed Jun 03 16:54:54 +0000 2020</td>\n",
       "      <td>1268224652993630200</td>\n",
       "      <td>NaN</td>\n",
       "      <td>NaN</td>\n",
       "      <td>2020-06-03 16:54:54+00:00</td>\n",
       "    </tr>\n",
       "    <tr>\n",
       "      <th>2</th>\n",
       "      <td>tckj725</td>\n",
       "      <td>Reuters</td>\n",
       "      <td>RT @Reuters: HSBC says it supports China's sec...</td>\n",
       "      <td>117</td>\n",
       "      <td>Wed Jun 03 16:54:53 +0000 2020</td>\n",
       "      <td>1268224650112200700</td>\n",
       "      <td>NaN</td>\n",
       "      <td>Australia、Hong kong</td>\n",
       "      <td>2020-06-03 16:54:53+00:00</td>\n",
       "    </tr>\n",
       "    <tr>\n",
       "      <th>3</th>\n",
       "      <td>kizza_marxel</td>\n",
       "      <td>nytimes</td>\n",
       "      <td>RT @nytimes: Breaking News: Prime Minister Bor...</td>\n",
       "      <td>140</td>\n",
       "      <td>Wed Jun 03 16:54:51 +0000 2020</td>\n",
       "      <td>1268224642839240700</td>\n",
       "      <td>NaN</td>\n",
       "      <td>NaN</td>\n",
       "      <td>2020-06-03 16:54:51+00:00</td>\n",
       "    </tr>\n",
       "    <tr>\n",
       "      <th>4</th>\n",
       "      <td>PilotAbilene</td>\n",
       "      <td>Steinhoefel</td>\n",
       "      <td>RT @Steinhoefel: Einwanderung, aber richtig. I...</td>\n",
       "      <td>140</td>\n",
       "      <td>Wed Jun 03 16:54:51 +0000 2020</td>\n",
       "      <td>1268224642390593500</td>\n",
       "      <td>NaN</td>\n",
       "      <td>Shermany</td>\n",
       "      <td>2020-06-03 16:54:51+00:00</td>\n",
       "    </tr>\n",
       "  </tbody>\n",
       "</table>\n",
       "</div>"
      ],
      "text/plain": [
       "              user       reuser  \\\n",
       "0  TomWong93767868      SkyNews   \n",
       "1      98h33654581   HongKongFP   \n",
       "2          tckj725      Reuters   \n",
       "3     kizza_marxel      nytimes   \n",
       "4     PilotAbilene  Steinhoefel   \n",
       "\n",
       "                                           full_text  range  \\\n",
       "0  RT @SkyNews: The PM has pledged to allow nearl...    139   \n",
       "1  RT @HongKongFP: [Recap] Pompeo says China is t...    135   \n",
       "2  RT @Reuters: HSBC says it supports China's sec...    117   \n",
       "3  RT @nytimes: Breaking News: Prime Minister Bor...    140   \n",
       "4  RT @Steinhoefel: Einwanderung, aber richtig. I...    140   \n",
       "\n",
       "                       created_at                   id  in_reply_to_user_id  \\\n",
       "0  Wed Jun 03 16:54:54 +0000 2020  1268224655061479400                  NaN   \n",
       "1  Wed Jun 03 16:54:54 +0000 2020  1268224652993630200                  NaN   \n",
       "2  Wed Jun 03 16:54:53 +0000 2020  1268224650112200700                  NaN   \n",
       "3  Wed Jun 03 16:54:51 +0000 2020  1268224642839240700                  NaN   \n",
       "4  Wed Jun 03 16:54:51 +0000 2020  1268224642390593500                  NaN   \n",
       "\n",
       "         user.location                      date  \n",
       "0                  NaN 2020-06-03 16:54:54+00:00  \n",
       "1                  NaN 2020-06-03 16:54:54+00:00  \n",
       "2  Australia、Hong kong 2020-06-03 16:54:53+00:00  \n",
       "3                  NaN 2020-06-03 16:54:51+00:00  \n",
       "4             Shermany 2020-06-03 16:54:51+00:00  "
      ]
     },
     "execution_count": 14,
     "metadata": {},
     "output_type": "execute_result"
    }
   ],
   "source": [
    "tweets2.head()"
   ]
  },
  {
   "cell_type": "markdown",
   "metadata": {},
   "source": [
    "##### We shall strip only date and drop the hours, minutes and seconds component from the date.\n",
    "##### The function `date.dt.strftime('%d%m%Y')` is used to strip out the same."
   ]
  },
  {
   "cell_type": "markdown",
   "metadata": {},
   "source": [
    "## segregating tweets2 based on dates, step 2.\n",
    "#### a new column `date2` is created by stripping only day, month and year from column `date`."
   ]
  },
  {
   "cell_type": "code",
   "execution_count": 15,
   "metadata": {},
   "outputs": [],
   "source": [
    "tweets2['date2'] = tweets2.date.dt.strftime('%d%m%Y')"
   ]
  },
  {
   "cell_type": "code",
   "execution_count": 16,
   "metadata": {},
   "outputs": [
    {
     "data": {
      "text/html": [
       "<div>\n",
       "<style scoped>\n",
       "    .dataframe tbody tr th:only-of-type {\n",
       "        vertical-align: middle;\n",
       "    }\n",
       "\n",
       "    .dataframe tbody tr th {\n",
       "        vertical-align: top;\n",
       "    }\n",
       "\n",
       "    .dataframe thead th {\n",
       "        text-align: right;\n",
       "    }\n",
       "</style>\n",
       "<table border=\"1\" class=\"dataframe\">\n",
       "  <thead>\n",
       "    <tr style=\"text-align: right;\">\n",
       "      <th></th>\n",
       "      <th>user</th>\n",
       "      <th>reuser</th>\n",
       "      <th>full_text</th>\n",
       "      <th>range</th>\n",
       "      <th>created_at</th>\n",
       "      <th>id</th>\n",
       "      <th>in_reply_to_user_id</th>\n",
       "      <th>user.location</th>\n",
       "      <th>date</th>\n",
       "      <th>date2</th>\n",
       "    </tr>\n",
       "  </thead>\n",
       "  <tbody>\n",
       "    <tr>\n",
       "      <th>0</th>\n",
       "      <td>TomWong93767868</td>\n",
       "      <td>SkyNews</td>\n",
       "      <td>RT @SkyNews: The PM has pledged to allow nearl...</td>\n",
       "      <td>139</td>\n",
       "      <td>Wed Jun 03 16:54:54 +0000 2020</td>\n",
       "      <td>1268224655061479400</td>\n",
       "      <td>NaN</td>\n",
       "      <td>NaN</td>\n",
       "      <td>2020-06-03 16:54:54+00:00</td>\n",
       "      <td>03062020</td>\n",
       "    </tr>\n",
       "    <tr>\n",
       "      <th>1</th>\n",
       "      <td>98h33654581</td>\n",
       "      <td>HongKongFP</td>\n",
       "      <td>RT @HongKongFP: [Recap] Pompeo says China is t...</td>\n",
       "      <td>135</td>\n",
       "      <td>Wed Jun 03 16:54:54 +0000 2020</td>\n",
       "      <td>1268224652993630200</td>\n",
       "      <td>NaN</td>\n",
       "      <td>NaN</td>\n",
       "      <td>2020-06-03 16:54:54+00:00</td>\n",
       "      <td>03062020</td>\n",
       "    </tr>\n",
       "    <tr>\n",
       "      <th>2</th>\n",
       "      <td>tckj725</td>\n",
       "      <td>Reuters</td>\n",
       "      <td>RT @Reuters: HSBC says it supports China's sec...</td>\n",
       "      <td>117</td>\n",
       "      <td>Wed Jun 03 16:54:53 +0000 2020</td>\n",
       "      <td>1268224650112200700</td>\n",
       "      <td>NaN</td>\n",
       "      <td>Australia、Hong kong</td>\n",
       "      <td>2020-06-03 16:54:53+00:00</td>\n",
       "      <td>03062020</td>\n",
       "    </tr>\n",
       "    <tr>\n",
       "      <th>3</th>\n",
       "      <td>kizza_marxel</td>\n",
       "      <td>nytimes</td>\n",
       "      <td>RT @nytimes: Breaking News: Prime Minister Bor...</td>\n",
       "      <td>140</td>\n",
       "      <td>Wed Jun 03 16:54:51 +0000 2020</td>\n",
       "      <td>1268224642839240700</td>\n",
       "      <td>NaN</td>\n",
       "      <td>NaN</td>\n",
       "      <td>2020-06-03 16:54:51+00:00</td>\n",
       "      <td>03062020</td>\n",
       "    </tr>\n",
       "    <tr>\n",
       "      <th>4</th>\n",
       "      <td>PilotAbilene</td>\n",
       "      <td>Steinhoefel</td>\n",
       "      <td>RT @Steinhoefel: Einwanderung, aber richtig. I...</td>\n",
       "      <td>140</td>\n",
       "      <td>Wed Jun 03 16:54:51 +0000 2020</td>\n",
       "      <td>1268224642390593500</td>\n",
       "      <td>NaN</td>\n",
       "      <td>Shermany</td>\n",
       "      <td>2020-06-03 16:54:51+00:00</td>\n",
       "      <td>03062020</td>\n",
       "    </tr>\n",
       "  </tbody>\n",
       "</table>\n",
       "</div>"
      ],
      "text/plain": [
       "              user       reuser  \\\n",
       "0  TomWong93767868      SkyNews   \n",
       "1      98h33654581   HongKongFP   \n",
       "2          tckj725      Reuters   \n",
       "3     kizza_marxel      nytimes   \n",
       "4     PilotAbilene  Steinhoefel   \n",
       "\n",
       "                                           full_text  range  \\\n",
       "0  RT @SkyNews: The PM has pledged to allow nearl...    139   \n",
       "1  RT @HongKongFP: [Recap] Pompeo says China is t...    135   \n",
       "2  RT @Reuters: HSBC says it supports China's sec...    117   \n",
       "3  RT @nytimes: Breaking News: Prime Minister Bor...    140   \n",
       "4  RT @Steinhoefel: Einwanderung, aber richtig. I...    140   \n",
       "\n",
       "                       created_at                   id  in_reply_to_user_id  \\\n",
       "0  Wed Jun 03 16:54:54 +0000 2020  1268224655061479400                  NaN   \n",
       "1  Wed Jun 03 16:54:54 +0000 2020  1268224652993630200                  NaN   \n",
       "2  Wed Jun 03 16:54:53 +0000 2020  1268224650112200700                  NaN   \n",
       "3  Wed Jun 03 16:54:51 +0000 2020  1268224642839240700                  NaN   \n",
       "4  Wed Jun 03 16:54:51 +0000 2020  1268224642390593500                  NaN   \n",
       "\n",
       "         user.location                      date     date2  \n",
       "0                  NaN 2020-06-03 16:54:54+00:00  03062020  \n",
       "1                  NaN 2020-06-03 16:54:54+00:00  03062020  \n",
       "2  Australia、Hong kong 2020-06-03 16:54:53+00:00  03062020  \n",
       "3                  NaN 2020-06-03 16:54:51+00:00  03062020  \n",
       "4             Shermany 2020-06-03 16:54:51+00:00  03062020  "
      ]
     },
     "execution_count": 16,
     "metadata": {},
     "output_type": "execute_result"
    }
   ],
   "source": [
    "tweets2.head()"
   ]
  },
  {
   "cell_type": "markdown",
   "metadata": {},
   "source": [
    "#### A list of all the dates gather by `unique()` function is collected.\n",
    "##### collecting array of dates."
   ]
  },
  {
   "cell_type": "code",
   "execution_count": 17,
   "metadata": {},
   "outputs": [
    {
     "name": "stdout",
     "output_type": "stream",
     "text": [
      "['03062020' '02062020' '01062020']\n"
     ]
    },
    {
     "data": {
      "text/plain": [
       "numpy.ndarray"
      ]
     },
     "execution_count": 17,
     "metadata": {},
     "output_type": "execute_result"
    }
   ],
   "source": [
    "collect = tweets2.date2.unique()\n",
    "print(collect)\n",
    "type(collect)"
   ]
  },
  {
   "cell_type": "markdown",
   "metadata": {},
   "source": [
    "#### making folder for storing tweets datewise.\n",
    "'''\n",
    "Here the essential difference is that apart from string variable `process_path` storing the value of the path, the actual folder creation is also being done in the next line. The function `os.path-exists()` checks whether there is folder named `datewise`, then if there no such folder then function `os.makedirs()` creates one.\n",
    "'''"
   ]
  },
  {
   "cell_type": "code",
   "execution_count": 18,
   "metadata": {},
   "outputs": [
    {
     "name": "stdout",
     "output_type": "stream",
     "text": [
      "/media/ambijat/Datrat/ipytoneeee/CNUS/datewise\n"
     ]
    }
   ],
   "source": [
    "datewise_path = raw_data_path + \"/\" + 'datewise'\n",
    "print(datewise_path)\n",
    "if not os.path.exists(datewise_path):\n",
    "    os.makedirs(datewise_path)"
   ]
  },
  {
   "cell_type": "markdown",
   "metadata": {},
   "source": [
    "### Exporting the tweets to datewise `csv` files.\n",
    "- declaring `variables = locals()`.\n",
    "- y is just to get the list of`csv` files.\n",
    "- use of `sep = ';'` is important.\n",
    "- filename and path are supplied through use of variable.\n",
    "- in order to set the location of storage folder, the function`os.path.join(process_path, r + '.csv')` is used."
   ]
  },
  {
   "cell_type": "code",
   "execution_count": 19,
   "metadata": {},
   "outputs": [
    {
     "name": "stdout",
     "output_type": "stream",
     "text": [
      "['tweet03062020', 'tweet02062020', 'tweet01062020']\n"
     ]
    }
   ],
   "source": [
    "variables = locals()\n",
    "y = []\n",
    "for key in collect:\n",
    "    r = \"tweet{0}\".format(key)\n",
    "    variables[r]= tweets2.loc[tweets2['date2'] == key].copy()\n",
    "    variables[r].to_csv(os.path.join(datewise_path, r + '.csv'), index = False, header = True, encoding = 'utf-8', sep = ';')\n",
    "    y.append(r)\n",
    "print(y)"
   ]
  },
  {
   "cell_type": "markdown",
   "metadata": {},
   "source": [
    "## Re-examine the above exercise by reimporting the tweets from multiple files.\n",
    "#### concat all files as means only to test the previous range of process."
   ]
  },
  {
   "cell_type": "code",
   "execution_count": 20,
   "metadata": {},
   "outputs": [],
   "source": [
    "all_files = glob.iglob(os.path.join(datewise_path, \"*.csv\"))\n",
    "tweets = pd.concat((pd.read_csv(f, lineterminator='\\n', sep = ';') for f in all_files))"
   ]
  },
  {
   "cell_type": "markdown",
   "metadata": {},
   "source": [
    "##### Examining the length, which is the same as previous score."
   ]
  },
  {
   "cell_type": "code",
   "execution_count": 21,
   "metadata": {},
   "outputs": [
    {
     "name": "stdout",
     "output_type": "stream",
     "text": [
      "116017\n"
     ]
    }
   ],
   "source": [
    "print(len(tweets))"
   ]
  },
  {
   "cell_type": "markdown",
   "metadata": {},
   "source": [
    "#### Inspecting the tweets by using `head()` function."
   ]
  },
  {
   "cell_type": "code",
   "execution_count": 22,
   "metadata": {},
   "outputs": [
    {
     "data": {
      "text/html": [
       "<div>\n",
       "<style scoped>\n",
       "    .dataframe tbody tr th:only-of-type {\n",
       "        vertical-align: middle;\n",
       "    }\n",
       "\n",
       "    .dataframe tbody tr th {\n",
       "        vertical-align: top;\n",
       "    }\n",
       "\n",
       "    .dataframe thead th {\n",
       "        text-align: right;\n",
       "    }\n",
       "</style>\n",
       "<table border=\"1\" class=\"dataframe\">\n",
       "  <thead>\n",
       "    <tr style=\"text-align: right;\">\n",
       "      <th></th>\n",
       "      <th>user</th>\n",
       "      <th>reuser</th>\n",
       "      <th>full_text</th>\n",
       "      <th>range</th>\n",
       "      <th>created_at</th>\n",
       "      <th>id</th>\n",
       "      <th>in_reply_to_user_id</th>\n",
       "      <th>user.location</th>\n",
       "      <th>date</th>\n",
       "      <th>date2</th>\n",
       "    </tr>\n",
       "  </thead>\n",
       "  <tbody>\n",
       "    <tr>\n",
       "      <th>0</th>\n",
       "      <td>namjoonayo</td>\n",
       "      <td>cannacae</td>\n",
       "      <td>RT @cannacae: i know BLM is important rn but i...</td>\n",
       "      <td>140</td>\n",
       "      <td>Mon Jun 01 23:59:57 +0000 2020</td>\n",
       "      <td>1267606846824542200</td>\n",
       "      <td>NaN</td>\n",
       "      <td>NaN</td>\n",
       "      <td>2020-06-01 23:59:57+00:00</td>\n",
       "      <td>1062020</td>\n",
       "    </tr>\n",
       "    <tr>\n",
       "      <th>1</th>\n",
       "      <td>ngdasokau</td>\n",
       "      <td>BarrySheerman</td>\n",
       "      <td>RT @BarrySheerman: Will the Johnson Government...</td>\n",
       "      <td>140</td>\n",
       "      <td>Mon Jun 01 23:59:57 +0000 2020</td>\n",
       "      <td>1267606845763367000</td>\n",
       "      <td>NaN</td>\n",
       "      <td>Hong Kong</td>\n",
       "      <td>2020-06-01 23:59:57+00:00</td>\n",
       "      <td>1062020</td>\n",
       "    </tr>\n",
       "    <tr>\n",
       "      <th>2</th>\n",
       "      <td>geoffreypcdog</td>\n",
       "      <td>benedictrogers</td>\n",
       "      <td>RT @benedictrogers: Seven former foreign secre...</td>\n",
       "      <td>140</td>\n",
       "      <td>Mon Jun 01 23:59:57 +0000 2020</td>\n",
       "      <td>1267606843322331100</td>\n",
       "      <td>NaN</td>\n",
       "      <td>NaN</td>\n",
       "      <td>2020-06-01 23:59:57+00:00</td>\n",
       "      <td>1062020</td>\n",
       "    </tr>\n",
       "    <tr>\n",
       "      <th>3</th>\n",
       "      <td>Marisa15061974</td>\n",
       "      <td>WDVL4</td>\n",
       "      <td>RT @WDVL4: China pidió a empresas estatales qu...</td>\n",
       "      <td>140</td>\n",
       "      <td>Mon Jun 01 23:59:56 +0000 2020</td>\n",
       "      <td>1267606839547625500</td>\n",
       "      <td>NaN</td>\n",
       "      <td>NaN</td>\n",
       "      <td>2020-06-01 23:59:56+00:00</td>\n",
       "      <td>1062020</td>\n",
       "    </tr>\n",
       "    <tr>\n",
       "      <th>4</th>\n",
       "      <td>Tony13945454</td>\n",
       "      <td>nytimesworld</td>\n",
       "      <td>RT @nytimesworld: The gathering to remember Ti...</td>\n",
       "      <td>140</td>\n",
       "      <td>Mon Jun 01 23:59:55 +0000 2020</td>\n",
       "      <td>1267606835428593700</td>\n",
       "      <td>NaN</td>\n",
       "      <td>Hong Kong</td>\n",
       "      <td>2020-06-01 23:59:55+00:00</td>\n",
       "      <td>1062020</td>\n",
       "    </tr>\n",
       "  </tbody>\n",
       "</table>\n",
       "</div>"
      ],
      "text/plain": [
       "             user          reuser  \\\n",
       "0      namjoonayo        cannacae   \n",
       "1       ngdasokau   BarrySheerman   \n",
       "2   geoffreypcdog  benedictrogers   \n",
       "3  Marisa15061974           WDVL4   \n",
       "4    Tony13945454    nytimesworld   \n",
       "\n",
       "                                           full_text  range  \\\n",
       "0  RT @cannacae: i know BLM is important rn but i...    140   \n",
       "1  RT @BarrySheerman: Will the Johnson Government...    140   \n",
       "2  RT @benedictrogers: Seven former foreign secre...    140   \n",
       "3  RT @WDVL4: China pidió a empresas estatales qu...    140   \n",
       "4  RT @nytimesworld: The gathering to remember Ti...    140   \n",
       "\n",
       "                       created_at                   id  in_reply_to_user_id  \\\n",
       "0  Mon Jun 01 23:59:57 +0000 2020  1267606846824542200                  NaN   \n",
       "1  Mon Jun 01 23:59:57 +0000 2020  1267606845763367000                  NaN   \n",
       "2  Mon Jun 01 23:59:57 +0000 2020  1267606843322331100                  NaN   \n",
       "3  Mon Jun 01 23:59:56 +0000 2020  1267606839547625500                  NaN   \n",
       "4  Mon Jun 01 23:59:55 +0000 2020  1267606835428593700                  NaN   \n",
       "\n",
       "  user.location                       date    date2  \n",
       "0           NaN  2020-06-01 23:59:57+00:00  1062020  \n",
       "1     Hong Kong  2020-06-01 23:59:57+00:00  1062020  \n",
       "2           NaN  2020-06-01 23:59:57+00:00  1062020  \n",
       "3           NaN  2020-06-01 23:59:56+00:00  1062020  \n",
       "4     Hong Kong  2020-06-01 23:59:55+00:00  1062020  "
      ]
     },
     "execution_count": 22,
     "metadata": {},
     "output_type": "execute_result"
    }
   ],
   "source": [
    "tweets.head()"
   ]
  },
  {
   "cell_type": "markdown",
   "metadata": {},
   "source": [
    "#### Eversince the twitter has increased the character limit from 140 to 280, the `full_text` gives the text instead of `text`.\n",
    "#### One can ensure where the tweet text lies, by checking though `isna().sum()` function.\n",
    "##### checking for any null tweets in `full_text`."
   ]
  },
  {
   "cell_type": "code",
   "execution_count": 23,
   "metadata": {},
   "outputs": [
    {
     "data": {
      "text/plain": [
       "0"
      ]
     },
     "execution_count": 23,
     "metadata": {},
     "output_type": "execute_result"
    }
   ],
   "source": [
    "tweets['full_text'].isna().sum()"
   ]
  },
  {
   "cell_type": "markdown",
   "metadata": {},
   "source": [
    "### Exporting `full_text` tweet for further analysis.\n",
    "##### Using the input to extract tweets txt from `full_text` and storing in a list."
   ]
  },
  {
   "cell_type": "code",
   "execution_count": 28,
   "metadata": {},
   "outputs": [
    {
     "data": {
      "text/html": [
       "<div>\n",
       "<style scoped>\n",
       "    .dataframe tbody tr th:only-of-type {\n",
       "        vertical-align: middle;\n",
       "    }\n",
       "\n",
       "    .dataframe tbody tr th {\n",
       "        vertical-align: top;\n",
       "    }\n",
       "\n",
       "    .dataframe thead th {\n",
       "        text-align: right;\n",
       "    }\n",
       "</style>\n",
       "<table border=\"1\" class=\"dataframe\">\n",
       "  <thead>\n",
       "    <tr style=\"text-align: right;\">\n",
       "      <th></th>\n",
       "      <th>range</th>\n",
       "      <th>full_text</th>\n",
       "    </tr>\n",
       "  </thead>\n",
       "  <tbody>\n",
       "    <tr>\n",
       "      <th>0</th>\n",
       "      <td>140</td>\n",
       "      <td>RT @cannacae: i know BLM is important rn but i...</td>\n",
       "    </tr>\n",
       "    <tr>\n",
       "      <th>1</th>\n",
       "      <td>140</td>\n",
       "      <td>RT @BarrySheerman: Will the Johnson Government...</td>\n",
       "    </tr>\n",
       "    <tr>\n",
       "      <th>2</th>\n",
       "      <td>140</td>\n",
       "      <td>RT @benedictrogers: Seven former foreign secre...</td>\n",
       "    </tr>\n",
       "    <tr>\n",
       "      <th>3</th>\n",
       "      <td>140</td>\n",
       "      <td>RT @WDVL4: China pidió a empresas estatales qu...</td>\n",
       "    </tr>\n",
       "    <tr>\n",
       "      <th>4</th>\n",
       "      <td>140</td>\n",
       "      <td>RT @nytimesworld: The gathering to remember Ti...</td>\n",
       "    </tr>\n",
       "  </tbody>\n",
       "</table>\n",
       "</div>"
      ],
      "text/plain": [
       "   range                                          full_text\n",
       "0    140  RT @cannacae: i know BLM is important rn but i...\n",
       "1    140  RT @BarrySheerman: Will the Johnson Government...\n",
       "2    140  RT @benedictrogers: Seven former foreign secre...\n",
       "3    140  RT @WDVL4: China pidió a empresas estatales qu...\n",
       "4    140  RT @nytimesworld: The gathering to remember Ti..."
      ]
     },
     "execution_count": 28,
     "metadata": {},
     "output_type": "execute_result"
    }
   ],
   "source": [
    "tweetstext = tweets.iloc[:,[3, 2]]\n",
    "tweetstext.head()"
   ]
  },
  {
   "cell_type": "code",
   "execution_count": 29,
   "metadata": {},
   "outputs": [],
   "source": [
    "twitext2 = tweetstext.sort_values('range',na_position='first')\n",
    "twitext2 = twitext2.reset_index(drop=True)\n",
    "tt = twitext2.iloc[:,[1]]"
   ]
  },
  {
   "cell_type": "markdown",
   "metadata": {},
   "source": [
    "#### Inspecting the tweet text."
   ]
  },
  {
   "cell_type": "code",
   "execution_count": 30,
   "metadata": {},
   "outputs": [
    {
     "data": {
      "text/html": [
       "<div>\n",
       "<style scoped>\n",
       "    .dataframe tbody tr th:only-of-type {\n",
       "        vertical-align: middle;\n",
       "    }\n",
       "\n",
       "    .dataframe tbody tr th {\n",
       "        vertical-align: top;\n",
       "    }\n",
       "\n",
       "    .dataframe thead th {\n",
       "        text-align: right;\n",
       "    }\n",
       "</style>\n",
       "<table border=\"1\" class=\"dataframe\">\n",
       "  <thead>\n",
       "    <tr style=\"text-align: right;\">\n",
       "      <th></th>\n",
       "      <th>full_text</th>\n",
       "    </tr>\n",
       "  </thead>\n",
       "  <tbody>\n",
       "    <tr>\n",
       "      <th>0</th>\n",
       "      <td>China \\nHong Kong https://t.co/hxgmLoEa5T</td>\n",
       "    </tr>\n",
       "    <tr>\n",
       "      <th>1</th>\n",
       "      <td>Hong Kong- China https://t.co/awi1qpJJ9I</td>\n",
       "    </tr>\n",
       "    <tr>\n",
       "      <th>2</th>\n",
       "      <td>Hong Kong, China.</td>\n",
       "    </tr>\n",
       "    <tr>\n",
       "      <th>3</th>\n",
       "      <td>Hong Kong VS China https://t.co/zh2NWxhZk2</td>\n",
       "    </tr>\n",
       "    <tr>\n",
       "      <th>4</th>\n",
       "      <td>CHINA vs HONG KONG</td>\n",
       "    </tr>\n",
       "  </tbody>\n",
       "</table>\n",
       "</div>"
      ],
      "text/plain": [
       "                                    full_text\n",
       "0   China \\nHong Kong https://t.co/hxgmLoEa5T\n",
       "1    Hong Kong- China https://t.co/awi1qpJJ9I\n",
       "2                           Hong Kong, China.\n",
       "3  Hong Kong VS China https://t.co/zh2NWxhZk2\n",
       "4                          CHINA vs HONG KONG"
      ]
     },
     "execution_count": 30,
     "metadata": {},
     "output_type": "execute_result"
    }
   ],
   "source": [
    "tt.head()"
   ]
  },
  {
   "cell_type": "markdown",
   "metadata": {},
   "source": [
    "#### Further cross validation of data."
   ]
  },
  {
   "cell_type": "code",
   "execution_count": 31,
   "metadata": {},
   "outputs": [
    {
     "data": {
      "text/plain": [
       "116017"
      ]
     },
     "execution_count": 31,
     "metadata": {},
     "output_type": "execute_result"
    }
   ],
   "source": [
    "tt.isna().sum()\n",
    "len(tt)"
   ]
  },
  {
   "cell_type": "markdown",
   "metadata": {},
   "source": [
    "## Dumping `full_text`."
   ]
  },
  {
   "cell_type": "markdown",
   "metadata": {},
   "source": [
    "##### They are exported to text file.\n",
    "##### Folder `process_path` is created.\n",
    "##### The raw tweet text is being sent to file `process_raw.txt`.\n",
    "##### The sorted tweet text will be sent to `process_type1.txt`."
   ]
  },
  {
   "cell_type": "code",
   "execution_count": 27,
   "metadata": {},
   "outputs": [
    {
     "name": "stdout",
     "output_type": "stream",
     "text": [
      "/media/ambijat/Datrat/ipytoneeee/CNUS/processed/process_type1.txt\n"
     ]
    }
   ],
   "source": [
    "process_path = raw_data_path + \"/\" + 'processed'\n",
    "\n",
    "if not os.path.exists(process_path):\n",
    "    os.makedirs(process_path)\n",
    "    \n",
    "store_path = os.path.join(process_path, \"process_raw.txt\")\n",
    "\n",
    "tt.to_csv(store_path, header = None, index = None, sep='\\n', mode='a')\n",
    "\n",
    "store_file = os.path.join(process_path, 'process_type1.txt')\n",
    "print(store_file)"
   ]
  },
  {
   "cell_type": "markdown",
   "metadata": {},
   "source": [
    "## 4. `full_text` processing by string manipulation and EDA (Exploratory Data Analysis).\n",
    "#### Using `awk`, `sort` and `cut` command is used sort tweets according to length."
   ]
  },
  {
   "cell_type": "markdown",
   "metadata": {},
   "source": [
    "### Important: Next 2 cells take bash command but any hash comments simply give error into the cell. Do not insert any `#` line above `%%bash` as it will give an error of execution.\n",
    "##### checking the file path variable in `bash`."
   ]
  },
  {
   "cell_type": "code",
   "execution_count": 32,
   "metadata": {},
   "outputs": [
    {
     "name": "stdout",
     "output_type": "stream",
     "text": [
      "a = /media/ambijat/Datrat/ipytoneeee/CNUS/processed/process_raw.txt, b = /media/ambijat/Datrat/ipytoneeee/CNUS/processed/process_type1.txt\n"
     ]
    }
   ],
   "source": [
    "%%bash -s \"$store_path\" \"$store_file\"\n",
    "echo a = $1, b = $2"
   ]
  },
  {
   "cell_type": "markdown",
   "metadata": {},
   "source": [
    "#### the `awk '{print length, $0}'` command prints the length of each line.\n",
    "#### Pay attention to `cut` command in `bash`, here `-d` is the delimiter of space and `-f` gives the length to be cut from the tweet text. The term `2-` means from second till last instance of delimiter in line.\n",
    "#### The `awk` command in the end is typical expression `awk '!a[$0]++'`, which is used to remove duplicate lines.\n",
    "#### Sending the sorted tweet text to `process_type1.txt`."
   ]
  },
  {
   "cell_type": "code",
   "execution_count": 33,
   "metadata": {},
   "outputs": [
    {
     "name": "stdout",
     "output_type": "stream",
     "text": [
      "a = /media/ambijat/Datrat/ipytoneeee/CNUS/processed/process_raw.txt, b = /media/ambijat/Datrat/ipytoneeee/CNUS/processed/process_type1.txt\n"
     ]
    }
   ],
   "source": [
    "%%bash -s \"$store_path\" \"$store_file\"\n",
    "echo a = $1, b = $2\n",
    "cat $1 | awk '{ print length, $0 }' | sort -n -s | cut -d ' ' -f 2- | awk '!a[$0]++' > $2"
   ]
  },
  {
   "cell_type": "markdown",
   "metadata": {},
   "source": [
    "### Making files for next stage processing."
   ]
  },
  {
   "cell_type": "code",
   "execution_count": 34,
   "metadata": {},
   "outputs": [
    {
     "name": "stdout",
     "output_type": "stream",
     "text": [
      "/media/ambijat/Datrat/ipytoneeee/CNUS/processed/process_type3.txt\n",
      "/media/ambijat/Datrat/ipytoneeee/CNUS/processed/process_type3b.txt\n"
     ]
    }
   ],
   "source": [
    "store_file_a = os.path.join(process_path, 'process_type3.txt')\n",
    "print(store_file_a)\n",
    "store_file_b = os.path.join(process_path, 'process_type3b.txt')\n",
    "print(store_file_b)"
   ]
  },
  {
   "cell_type": "markdown",
   "metadata": {},
   "source": [
    "## 5. Extracting `URLS` from tweet text.\n",
    "#### extraction of urls from the full_text. This is a 2 step process. a) all tweets are broken into word strings and then b) all strings of 22-25 character long are collected. This is on presumption that tweet urls are 22-25 char long.\n",
    "##### The file `process_type3b.txt` shall gather all the strings of length 22-25 character. This is the standard twitter `url` length.\n",
    "### `sed` substitution of various types of strings is based on experience and sampling of text."
   ]
  },
  {
   "cell_type": "code",
   "execution_count": 35,
   "metadata": {},
   "outputs": [
    {
     "name": "stdout",
     "output_type": "stream",
     "text": [
      "/media/ambijat/Datrat/ipytoneeee/CNUS/processed/process_type1.txt\n",
      "/media/ambijat/Datrat/ipytoneeee/CNUS/processed/process_type3.txt\n",
      "/media/ambijat/Datrat/ipytoneeee/CNUS/processed/process_type3b.txt\n"
     ]
    }
   ],
   "source": [
    "%%bash -s \"$store_file\" \"$store_file_a\" \"$store_file_b\"\n",
    "echo $1\n",
    "echo $2\n",
    "echo $3\n",
    "cat $1 | sed 's/[[:space:]]/\\n/g' | sed 's/^[ \\t]*//' | sed 's/[ \\t]*$//' | sed 's/^[\"]*//g' |\\\n",
    "sed 's/[\"]$//g'| sed '/^$/d'| sed 's/[\"]//g' | awk '{ if (length($0) > 22) print }' |\\\n",
    "awk '{ if (length($0) < 25) print }' >> $2"
   ]
  },
  {
   "cell_type": "markdown",
   "metadata": {},
   "source": [
    "#### The filtered length in above file then shall be looked for those strings that start with `http` and same shall be exported to `process_type3b.txt` file.\n",
    "#### After filtering by character length. The processing done according to `http` identification."
   ]
  },
  {
   "cell_type": "code",
   "execution_count": 36,
   "metadata": {},
   "outputs": [
    {
     "name": "stdout",
     "output_type": "stream",
     "text": [
      "/media/ambijat/Datrat/ipytoneeee/CNUS/processed/process_type1.txt\n",
      "/media/ambijat/Datrat/ipytoneeee/CNUS/processed/process_type3.txt\n",
      "/media/ambijat/Datrat/ipytoneeee/CNUS/processed/process_type3b.txt\n"
     ]
    }
   ],
   "source": [
    "%%bash -s \"$store_file\" \"$store_file_a\" \"$store_file_b\"\n",
    "echo $1\n",
    "echo $2\n",
    "echo $3\n",
    "cat $2 | sed 's/[\"]*$//g' | awk '/^http/{print}' | awk '{ if (length($0) > 22) print }' |\\\n",
    "awk '{ if (length($0) < 24) print }'| sort -u | awk -v n=15 '1; NR % n == 0 {print \"\"}' >> $3"
   ]
  },
  {
   "cell_type": "markdown",
   "metadata": {},
   "source": [
    "### to convert unix file to windows format"
   ]
  },
  {
   "cell_type": "code",
   "execution_count": 37,
   "metadata": {},
   "outputs": [
    {
     "name": "stdout",
     "output_type": "stream",
     "text": [
      "/media/ambijat/Datrat/ipytoneeee/CNUS/processed/win_file.txt\n"
     ]
    }
   ],
   "source": [
    "win_file = os.path.join(process_path, \"win_file.txt\")\n",
    "print(win_file)"
   ]
  },
  {
   "cell_type": "markdown",
   "metadata": {},
   "source": [
    "### for windows version the convervsion is done."
   ]
  },
  {
   "cell_type": "code",
   "execution_count": 38,
   "metadata": {},
   "outputs": [
    {
     "name": "stdout",
     "output_type": "stream",
     "text": [
      "/media/ambijat/Datrat/ipytoneeee/CNUS/processed/process_type3b.txt\n",
      "/media/ambijat/Datrat/ipytoneeee/CNUS/processed/win_file.txt\n"
     ]
    }
   ],
   "source": [
    "%%bash -s \"$store_file_b\" \"$win_file\"\n",
    "echo $1\n",
    "echo $2\n",
    "cat $1 | awk 'sub(\"$\", \"\\r\")' >$2"
   ]
  },
  {
   "cell_type": "markdown",
   "metadata": {},
   "source": [
    "#### Rearranging dates into `y-m-d` format in new column `date3`.\n",
    "#### Extraction of dates by slicing method of string."
   ]
  },
  {
   "cell_type": "code",
   "execution_count": 39,
   "metadata": {},
   "outputs": [],
   "source": [
    "tweets2['date3'] = tweets2.date2.str[4:8]+tweets2.date2.str[2:4]+tweets2.date2.str[0:2]"
   ]
  },
  {
   "cell_type": "markdown",
   "metadata": {},
   "source": [
    "#### Inspecting the `date3` in dataframe `tweets2`."
   ]
  },
  {
   "cell_type": "code",
   "execution_count": 40,
   "metadata": {},
   "outputs": [
    {
     "data": {
      "text/html": [
       "<div>\n",
       "<style scoped>\n",
       "    .dataframe tbody tr th:only-of-type {\n",
       "        vertical-align: middle;\n",
       "    }\n",
       "\n",
       "    .dataframe tbody tr th {\n",
       "        vertical-align: top;\n",
       "    }\n",
       "\n",
       "    .dataframe thead th {\n",
       "        text-align: right;\n",
       "    }\n",
       "</style>\n",
       "<table border=\"1\" class=\"dataframe\">\n",
       "  <thead>\n",
       "    <tr style=\"text-align: right;\">\n",
       "      <th></th>\n",
       "      <th>user</th>\n",
       "      <th>reuser</th>\n",
       "      <th>full_text</th>\n",
       "      <th>range</th>\n",
       "      <th>created_at</th>\n",
       "      <th>id</th>\n",
       "      <th>in_reply_to_user_id</th>\n",
       "      <th>user.location</th>\n",
       "      <th>date</th>\n",
       "      <th>date2</th>\n",
       "      <th>date3</th>\n",
       "    </tr>\n",
       "  </thead>\n",
       "  <tbody>\n",
       "    <tr>\n",
       "      <th>0</th>\n",
       "      <td>TomWong93767868</td>\n",
       "      <td>SkyNews</td>\n",
       "      <td>RT @SkyNews: The PM has pledged to allow nearl...</td>\n",
       "      <td>139</td>\n",
       "      <td>Wed Jun 03 16:54:54 +0000 2020</td>\n",
       "      <td>1268224655061479400</td>\n",
       "      <td>NaN</td>\n",
       "      <td>NaN</td>\n",
       "      <td>2020-06-03 16:54:54+00:00</td>\n",
       "      <td>03062020</td>\n",
       "      <td>20200603</td>\n",
       "    </tr>\n",
       "    <tr>\n",
       "      <th>1</th>\n",
       "      <td>98h33654581</td>\n",
       "      <td>HongKongFP</td>\n",
       "      <td>RT @HongKongFP: [Recap] Pompeo says China is t...</td>\n",
       "      <td>135</td>\n",
       "      <td>Wed Jun 03 16:54:54 +0000 2020</td>\n",
       "      <td>1268224652993630200</td>\n",
       "      <td>NaN</td>\n",
       "      <td>NaN</td>\n",
       "      <td>2020-06-03 16:54:54+00:00</td>\n",
       "      <td>03062020</td>\n",
       "      <td>20200603</td>\n",
       "    </tr>\n",
       "    <tr>\n",
       "      <th>2</th>\n",
       "      <td>tckj725</td>\n",
       "      <td>Reuters</td>\n",
       "      <td>RT @Reuters: HSBC says it supports China's sec...</td>\n",
       "      <td>117</td>\n",
       "      <td>Wed Jun 03 16:54:53 +0000 2020</td>\n",
       "      <td>1268224650112200700</td>\n",
       "      <td>NaN</td>\n",
       "      <td>Australia、Hong kong</td>\n",
       "      <td>2020-06-03 16:54:53+00:00</td>\n",
       "      <td>03062020</td>\n",
       "      <td>20200603</td>\n",
       "    </tr>\n",
       "    <tr>\n",
       "      <th>3</th>\n",
       "      <td>kizza_marxel</td>\n",
       "      <td>nytimes</td>\n",
       "      <td>RT @nytimes: Breaking News: Prime Minister Bor...</td>\n",
       "      <td>140</td>\n",
       "      <td>Wed Jun 03 16:54:51 +0000 2020</td>\n",
       "      <td>1268224642839240700</td>\n",
       "      <td>NaN</td>\n",
       "      <td>NaN</td>\n",
       "      <td>2020-06-03 16:54:51+00:00</td>\n",
       "      <td>03062020</td>\n",
       "      <td>20200603</td>\n",
       "    </tr>\n",
       "    <tr>\n",
       "      <th>4</th>\n",
       "      <td>PilotAbilene</td>\n",
       "      <td>Steinhoefel</td>\n",
       "      <td>RT @Steinhoefel: Einwanderung, aber richtig. I...</td>\n",
       "      <td>140</td>\n",
       "      <td>Wed Jun 03 16:54:51 +0000 2020</td>\n",
       "      <td>1268224642390593500</td>\n",
       "      <td>NaN</td>\n",
       "      <td>Shermany</td>\n",
       "      <td>2020-06-03 16:54:51+00:00</td>\n",
       "      <td>03062020</td>\n",
       "      <td>20200603</td>\n",
       "    </tr>\n",
       "  </tbody>\n",
       "</table>\n",
       "</div>"
      ],
      "text/plain": [
       "              user       reuser  \\\n",
       "0  TomWong93767868      SkyNews   \n",
       "1      98h33654581   HongKongFP   \n",
       "2          tckj725      Reuters   \n",
       "3     kizza_marxel      nytimes   \n",
       "4     PilotAbilene  Steinhoefel   \n",
       "\n",
       "                                           full_text  range  \\\n",
       "0  RT @SkyNews: The PM has pledged to allow nearl...    139   \n",
       "1  RT @HongKongFP: [Recap] Pompeo says China is t...    135   \n",
       "2  RT @Reuters: HSBC says it supports China's sec...    117   \n",
       "3  RT @nytimes: Breaking News: Prime Minister Bor...    140   \n",
       "4  RT @Steinhoefel: Einwanderung, aber richtig. I...    140   \n",
       "\n",
       "                       created_at                   id  in_reply_to_user_id  \\\n",
       "0  Wed Jun 03 16:54:54 +0000 2020  1268224655061479400                  NaN   \n",
       "1  Wed Jun 03 16:54:54 +0000 2020  1268224652993630200                  NaN   \n",
       "2  Wed Jun 03 16:54:53 +0000 2020  1268224650112200700                  NaN   \n",
       "3  Wed Jun 03 16:54:51 +0000 2020  1268224642839240700                  NaN   \n",
       "4  Wed Jun 03 16:54:51 +0000 2020  1268224642390593500                  NaN   \n",
       "\n",
       "         user.location                      date     date2     date3  \n",
       "0                  NaN 2020-06-03 16:54:54+00:00  03062020  20200603  \n",
       "1                  NaN 2020-06-03 16:54:54+00:00  03062020  20200603  \n",
       "2  Australia、Hong kong 2020-06-03 16:54:53+00:00  03062020  20200603  \n",
       "3                  NaN 2020-06-03 16:54:51+00:00  03062020  20200603  \n",
       "4             Shermany 2020-06-03 16:54:51+00:00  03062020  20200603  "
      ]
     },
     "execution_count": 40,
     "metadata": {},
     "output_type": "execute_result"
    }
   ],
   "source": [
    "tweets2.head()"
   ]
  },
  {
   "cell_type": "markdown",
   "metadata": {},
   "source": [
    "#### Making new folder to store the `tweets2`."
   ]
  },
  {
   "cell_type": "code",
   "execution_count": 41,
   "metadata": {},
   "outputs": [
    {
     "name": "stdout",
     "output_type": "stream",
     "text": [
      "/media/ambijat/Datrat/ipytoneeee/CNUS/processed2\n"
     ]
    }
   ],
   "source": [
    "process2_path = raw_data_path + \"/\" + 'processed2'\n",
    "print(process2_path)\n",
    "if not os.path.exists(process2_path):\n",
    "    os.makedirs(process2_path)"
   ]
  },
  {
   "cell_type": "markdown",
   "metadata": {},
   "source": [
    "#### Exporting the tweets."
   ]
  },
  {
   "cell_type": "code",
   "execution_count": 42,
   "metadata": {},
   "outputs": [],
   "source": [
    "tweets2.to_csv(os.path.join(process2_path, 'tweets2.csv'), index = False, header = True, encoding = 'utf-8', sep = ';')"
   ]
  },
  {
   "cell_type": "markdown",
   "metadata": {},
   "source": [
    "### storing some dataframe to be used for another notebook.\n",
    "'''\n",
    "the tweets2 can be used for processing the data in R as all tweets and date3 can give everything for such processig. \n",
    "The process_type3b has all the urls. One can find the most tweeted urls in next stage.\n",
    "'''"
   ]
  },
  {
   "cell_type": "code",
   "execution_count": 43,
   "metadata": {},
   "outputs": [
    {
     "name": "stdout",
     "output_type": "stream",
     "text": [
      "Stored 'tweets2' (DataFrame)\n"
     ]
    }
   ],
   "source": [
    "%store tweets2"
   ]
  },
  {
   "cell_type": "code",
   "execution_count": 44,
   "metadata": {},
   "outputs": [
    {
     "name": "stdout",
     "output_type": "stream",
     "text": [
      "/media/ambijat/Datrat/ipytoneeee/CNUS/processed/process_raw.txt\n",
      "/media/ambijat/Datrat/ipytoneeee/CNUS/processed/process_type3.txt\n",
      "/media/ambijat/Datrat/ipytoneeee/CNUS/processed/process_type3b.txt\n"
     ]
    }
   ],
   "source": [
    "%%bash -s \"$store_path\" \"$store_file_a\" \"$store_file_b\"\n",
    "echo $1\n",
    "echo $2\n",
    "echo $3\n",
    "rm $2\n",
    "rm $3"
   ]
  },
  {
   "cell_type": "code",
   "execution_count": null,
   "metadata": {},
   "outputs": [],
   "source": []
  }
 ],
 "metadata": {
  "kernelspec": {
   "display_name": "Python 3",
   "language": "python",
   "name": "python3"
  },
  "language_info": {
   "codemirror_mode": {
    "name": "ipython",
    "version": 3
   },
   "file_extension": ".py",
   "mimetype": "text/x-python",
   "name": "python",
   "nbconvert_exporter": "python",
   "pygments_lexer": "ipython3",
   "version": "3.8.2"
  }
 },
 "nbformat": 4,
 "nbformat_minor": 4
}
