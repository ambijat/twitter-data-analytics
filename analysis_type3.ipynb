{
 "cells": [
  {
   "cell_type": "code",
   "execution_count": 1,
   "metadata": {},
   "outputs": [],
   "source": [
    "#initialising libraries\n",
    "import json\n",
    "import sys\n",
    "import pandas as pd\n",
    "import numpy as np\n",
    "import matplotlib.pyplot as plt\n",
    "%matplotlib inline \n",
    "import glob\n",
    "import os\n",
    "import re\n",
    "\n",
    "pd.set_option(\"display.max_colwidth\", 70000)"
   ]
  },
  {
   "cell_type": "code",
   "execution_count": 2,
   "metadata": {},
   "outputs": [
    {
     "name": "stdin",
     "output_type": "stream",
     "text": [
      "Enter the path for process folder :  /media/ambijat/Datrat/ipytoneeee/CNUS\n"
     ]
    }
   ],
   "source": [
    "base_folder = input(\"Enter the path for process folder : \")"
   ]
  },
  {
   "cell_type": "markdown",
   "metadata": {},
   "source": [
    "# New Method applied here. By Using function to collect negative tweets.\n",
    "### `text2` is the dataframe that contains tweets.\n",
    "## some problems are here. we need only stripped texts from the full_text no urls and emojis."
   ]
  },
  {
   "cell_type": "code",
   "execution_count": 3,
   "metadata": {},
   "outputs": [
    {
     "name": "stdout",
     "output_type": "stream",
     "text": [
      "/media/ambijat/Datrat/ipytoneeee/CNUS/processed2\n",
      "/media/ambijat/Datrat/ipytoneeee/CNUS/processed2/tweets2.csv\n"
     ]
    }
   ],
   "source": [
    "process2_folder = base_folder + \"/\" + \"processed2\"\n",
    "print(process2_folder)\n",
    "tweet2file = os.path.join(process2_folder, 'tweets2.csv')\n",
    "print(tweet2file)"
   ]
  },
  {
   "cell_type": "code",
   "execution_count": 4,
   "metadata": {},
   "outputs": [],
   "source": [
    "tweet2 = pd.read_csv(tweet2file, sep=';', lineterminator='\\n')"
   ]
  },
  {
   "cell_type": "code",
   "execution_count": 5,
   "metadata": {},
   "outputs": [
    {
     "data": {
      "text/html": [
       "<div>\n",
       "<style scoped>\n",
       "    .dataframe tbody tr th:only-of-type {\n",
       "        vertical-align: middle;\n",
       "    }\n",
       "\n",
       "    .dataframe tbody tr th {\n",
       "        vertical-align: top;\n",
       "    }\n",
       "\n",
       "    .dataframe thead th {\n",
       "        text-align: right;\n",
       "    }\n",
       "</style>\n",
       "<table border=\"1\" class=\"dataframe\">\n",
       "  <thead>\n",
       "    <tr style=\"text-align: right;\">\n",
       "      <th></th>\n",
       "      <th>user</th>\n",
       "      <th>reuser</th>\n",
       "      <th>full_text</th>\n",
       "      <th>range</th>\n",
       "      <th>created_at</th>\n",
       "      <th>id</th>\n",
       "      <th>in_reply_to_user_id</th>\n",
       "      <th>user.location</th>\n",
       "      <th>date</th>\n",
       "      <th>date2</th>\n",
       "      <th>date3</th>\n",
       "    </tr>\n",
       "  </thead>\n",
       "  <tbody>\n",
       "    <tr>\n",
       "      <th>0</th>\n",
       "      <td>TomWong93767868</td>\n",
       "      <td>SkyNews</td>\n",
       "      <td>RT @SkyNews: The PM has pledged to allow nearly three million Hong Kong citizens the right to live and work indefinitely in the UK, with a…</td>\n",
       "      <td>139</td>\n",
       "      <td>Wed Jun 03 16:54:54 +0000 2020</td>\n",
       "      <td>1268224655061479400</td>\n",
       "      <td>NaN</td>\n",
       "      <td>NaN</td>\n",
       "      <td>2020-06-03 16:54:54+00:00</td>\n",
       "      <td>3062020</td>\n",
       "      <td>20200603</td>\n",
       "    </tr>\n",
       "    <tr>\n",
       "      <th>1</th>\n",
       "      <td>98h33654581</td>\n",
       "      <td>HongKongFP</td>\n",
       "      <td>RT @HongKongFP: [Recap] Pompeo says China is trying to muzzle Hong Kong by preventing Tiananmen massacre vigil\\n\\nhttps://t.co/qRHL1YtiFg</td>\n",
       "      <td>135</td>\n",
       "      <td>Wed Jun 03 16:54:54 +0000 2020</td>\n",
       "      <td>1268224652993630200</td>\n",
       "      <td>NaN</td>\n",
       "      <td>NaN</td>\n",
       "      <td>2020-06-03 16:54:54+00:00</td>\n",
       "      <td>3062020</td>\n",
       "      <td>20200603</td>\n",
       "    </tr>\n",
       "    <tr>\n",
       "      <th>2</th>\n",
       "      <td>tckj725</td>\n",
       "      <td>Reuters</td>\n",
       "      <td>RT @Reuters: HSBC says it supports China's security law for Hong Kong https://t.co/drA7pWNFuW https://t.co/yCCJE6Pye3</td>\n",
       "      <td>117</td>\n",
       "      <td>Wed Jun 03 16:54:53 +0000 2020</td>\n",
       "      <td>1268224650112200700</td>\n",
       "      <td>NaN</td>\n",
       "      <td>Australia、Hong kong</td>\n",
       "      <td>2020-06-03 16:54:53+00:00</td>\n",
       "      <td>3062020</td>\n",
       "      <td>20200603</td>\n",
       "    </tr>\n",
       "    <tr>\n",
       "      <th>3</th>\n",
       "      <td>kizza_marxel</td>\n",
       "      <td>nytimes</td>\n",
       "      <td>RT @nytimes: Breaking News: Prime Minister Boris Johnson pledged to admit nearly 3 million people into Britain from Hong Kong if China were…</td>\n",
       "      <td>140</td>\n",
       "      <td>Wed Jun 03 16:54:51 +0000 2020</td>\n",
       "      <td>1268224642839240700</td>\n",
       "      <td>NaN</td>\n",
       "      <td>NaN</td>\n",
       "      <td>2020-06-03 16:54:51+00:00</td>\n",
       "      <td>3062020</td>\n",
       "      <td>20200603</td>\n",
       "    </tr>\n",
       "    <tr>\n",
       "      <th>4</th>\n",
       "      <td>PilotAbilene</td>\n",
       "      <td>Steinhoefel</td>\n",
       "      <td>RT @Steinhoefel: Einwanderung, aber richtig. Ich weiss gar nicht mehr, aus wie vielen Gründen das ein kluges Vorhaben von Boris Johnson ist…</td>\n",
       "      <td>140</td>\n",
       "      <td>Wed Jun 03 16:54:51 +0000 2020</td>\n",
       "      <td>1268224642390593500</td>\n",
       "      <td>NaN</td>\n",
       "      <td>Shermany</td>\n",
       "      <td>2020-06-03 16:54:51+00:00</td>\n",
       "      <td>3062020</td>\n",
       "      <td>20200603</td>\n",
       "    </tr>\n",
       "  </tbody>\n",
       "</table>\n",
       "</div>"
      ],
      "text/plain": [
       "              user       reuser  \\\n",
       "0  TomWong93767868      SkyNews   \n",
       "1      98h33654581   HongKongFP   \n",
       "2          tckj725      Reuters   \n",
       "3     kizza_marxel      nytimes   \n",
       "4     PilotAbilene  Steinhoefel   \n",
       "\n",
       "                                                                                                                                      full_text  \\\n",
       "0   RT @SkyNews: The PM has pledged to allow nearly three million Hong Kong citizens the right to live and work indefinitely in the UK, with a…   \n",
       "1     RT @HongKongFP: [Recap] Pompeo says China is trying to muzzle Hong Kong by preventing Tiananmen massacre vigil\\n\\nhttps://t.co/qRHL1YtiFg   \n",
       "2                         RT @Reuters: HSBC says it supports China's security law for Hong Kong https://t.co/drA7pWNFuW https://t.co/yCCJE6Pye3   \n",
       "3  RT @nytimes: Breaking News: Prime Minister Boris Johnson pledged to admit nearly 3 million people into Britain from Hong Kong if China were…   \n",
       "4  RT @Steinhoefel: Einwanderung, aber richtig. Ich weiss gar nicht mehr, aus wie vielen Gründen das ein kluges Vorhaben von Boris Johnson ist…   \n",
       "\n",
       "   range                      created_at                   id  \\\n",
       "0    139  Wed Jun 03 16:54:54 +0000 2020  1268224655061479400   \n",
       "1    135  Wed Jun 03 16:54:54 +0000 2020  1268224652993630200   \n",
       "2    117  Wed Jun 03 16:54:53 +0000 2020  1268224650112200700   \n",
       "3    140  Wed Jun 03 16:54:51 +0000 2020  1268224642839240700   \n",
       "4    140  Wed Jun 03 16:54:51 +0000 2020  1268224642390593500   \n",
       "\n",
       "   in_reply_to_user_id        user.location                       date  \\\n",
       "0                  NaN                  NaN  2020-06-03 16:54:54+00:00   \n",
       "1                  NaN                  NaN  2020-06-03 16:54:54+00:00   \n",
       "2                  NaN  Australia、Hong kong  2020-06-03 16:54:53+00:00   \n",
       "3                  NaN                  NaN  2020-06-03 16:54:51+00:00   \n",
       "4                  NaN             Shermany  2020-06-03 16:54:51+00:00   \n",
       "\n",
       "     date2     date3  \n",
       "0  3062020  20200603  \n",
       "1  3062020  20200603  \n",
       "2  3062020  20200603  \n",
       "3  3062020  20200603  \n",
       "4  3062020  20200603  "
      ]
     },
     "execution_count": 5,
     "metadata": {},
     "output_type": "execute_result"
    }
   ],
   "source": [
    "tweet2.head()"
   ]
  },
  {
   "cell_type": "code",
   "execution_count": 6,
   "metadata": {},
   "outputs": [],
   "source": [
    "twitext2 = pd.DataFrame(tweet2.full_text)"
   ]
  },
  {
   "cell_type": "code",
   "execution_count": 7,
   "metadata": {},
   "outputs": [
    {
     "data": {
      "text/html": [
       "<div>\n",
       "<style scoped>\n",
       "    .dataframe tbody tr th:only-of-type {\n",
       "        vertical-align: middle;\n",
       "    }\n",
       "\n",
       "    .dataframe tbody tr th {\n",
       "        vertical-align: top;\n",
       "    }\n",
       "\n",
       "    .dataframe thead th {\n",
       "        text-align: right;\n",
       "    }\n",
       "</style>\n",
       "<table border=\"1\" class=\"dataframe\">\n",
       "  <thead>\n",
       "    <tr style=\"text-align: right;\">\n",
       "      <th></th>\n",
       "      <th>full_text</th>\n",
       "    </tr>\n",
       "  </thead>\n",
       "  <tbody>\n",
       "    <tr>\n",
       "      <th>0</th>\n",
       "      <td>RT @SkyNews: The PM has pledged to allow nearly three million Hong Kong citizens the right to live and work indefinitely in the UK, with a…</td>\n",
       "    </tr>\n",
       "    <tr>\n",
       "      <th>1</th>\n",
       "      <td>RT @HongKongFP: [Recap] Pompeo says China is trying to muzzle Hong Kong by preventing Tiananmen massacre vigil\\n\\nhttps://t.co/qRHL1YtiFg</td>\n",
       "    </tr>\n",
       "    <tr>\n",
       "      <th>2</th>\n",
       "      <td>RT @Reuters: HSBC says it supports China's security law for Hong Kong https://t.co/drA7pWNFuW https://t.co/yCCJE6Pye3</td>\n",
       "    </tr>\n",
       "    <tr>\n",
       "      <th>3</th>\n",
       "      <td>RT @nytimes: Breaking News: Prime Minister Boris Johnson pledged to admit nearly 3 million people into Britain from Hong Kong if China were…</td>\n",
       "    </tr>\n",
       "    <tr>\n",
       "      <th>4</th>\n",
       "      <td>RT @Steinhoefel: Einwanderung, aber richtig. Ich weiss gar nicht mehr, aus wie vielen Gründen das ein kluges Vorhaben von Boris Johnson ist…</td>\n",
       "    </tr>\n",
       "  </tbody>\n",
       "</table>\n",
       "</div>"
      ],
      "text/plain": [
       "                                                                                                                                      full_text\n",
       "0   RT @SkyNews: The PM has pledged to allow nearly three million Hong Kong citizens the right to live and work indefinitely in the UK, with a…\n",
       "1     RT @HongKongFP: [Recap] Pompeo says China is trying to muzzle Hong Kong by preventing Tiananmen massacre vigil\\n\\nhttps://t.co/qRHL1YtiFg\n",
       "2                         RT @Reuters: HSBC says it supports China's security law for Hong Kong https://t.co/drA7pWNFuW https://t.co/yCCJE6Pye3\n",
       "3  RT @nytimes: Breaking News: Prime Minister Boris Johnson pledged to admit nearly 3 million people into Britain from Hong Kong if China were…\n",
       "4  RT @Steinhoefel: Einwanderung, aber richtig. Ich weiss gar nicht mehr, aus wie vielen Gründen das ein kluges Vorhaben von Boris Johnson ist…"
      ]
     },
     "execution_count": 7,
     "metadata": {},
     "output_type": "execute_result"
    }
   ],
   "source": [
    "twitext2.head()"
   ]
  },
  {
   "cell_type": "markdown",
   "metadata": {},
   "source": [
    "## Eliminating all the `URLs`."
   ]
  },
  {
   "cell_type": "code",
   "execution_count": 8,
   "metadata": {},
   "outputs": [],
   "source": [
    "twitext = twitext2.replace(r'(https?://[^\\s<>\"]+|www\\.[^\\s<>\"]+)', '', regex =True)"
   ]
  },
  {
   "cell_type": "code",
   "execution_count": 9,
   "metadata": {},
   "outputs": [
    {
     "data": {
      "text/plain": [
       "116017"
      ]
     },
     "execution_count": 9,
     "metadata": {},
     "output_type": "execute_result"
    }
   ],
   "source": [
    "len(twitext)"
   ]
  },
  {
   "cell_type": "code",
   "execution_count": 10,
   "metadata": {},
   "outputs": [
    {
     "data": {
      "text/html": [
       "<div>\n",
       "<style scoped>\n",
       "    .dataframe tbody tr th:only-of-type {\n",
       "        vertical-align: middle;\n",
       "    }\n",
       "\n",
       "    .dataframe tbody tr th {\n",
       "        vertical-align: top;\n",
       "    }\n",
       "\n",
       "    .dataframe thead th {\n",
       "        text-align: right;\n",
       "    }\n",
       "</style>\n",
       "<table border=\"1\" class=\"dataframe\">\n",
       "  <thead>\n",
       "    <tr style=\"text-align: right;\">\n",
       "      <th></th>\n",
       "      <th>full_text</th>\n",
       "    </tr>\n",
       "  </thead>\n",
       "  <tbody>\n",
       "    <tr>\n",
       "      <th>0</th>\n",
       "      <td>RT @SkyNews: The PM has pledged to allow nearly three million Hong Kong citizens the right to live and work indefinitely in the UK, with a…</td>\n",
       "    </tr>\n",
       "    <tr>\n",
       "      <th>1</th>\n",
       "      <td>RT @HongKongFP: [Recap] Pompeo says China is trying to muzzle Hong Kong by preventing Tiananmen massacre vigil\\n\\n</td>\n",
       "    </tr>\n",
       "    <tr>\n",
       "      <th>2</th>\n",
       "      <td>RT @Reuters: HSBC says it supports China's security law for Hong Kong</td>\n",
       "    </tr>\n",
       "    <tr>\n",
       "      <th>3</th>\n",
       "      <td>RT @nytimes: Breaking News: Prime Minister Boris Johnson pledged to admit nearly 3 million people into Britain from Hong Kong if China were…</td>\n",
       "    </tr>\n",
       "    <tr>\n",
       "      <th>4</th>\n",
       "      <td>RT @Steinhoefel: Einwanderung, aber richtig. Ich weiss gar nicht mehr, aus wie vielen Gründen das ein kluges Vorhaben von Boris Johnson ist…</td>\n",
       "    </tr>\n",
       "  </tbody>\n",
       "</table>\n",
       "</div>"
      ],
      "text/plain": [
       "                                                                                                                                      full_text\n",
       "0   RT @SkyNews: The PM has pledged to allow nearly three million Hong Kong citizens the right to live and work indefinitely in the UK, with a…\n",
       "1                            RT @HongKongFP: [Recap] Pompeo says China is trying to muzzle Hong Kong by preventing Tiananmen massacre vigil\\n\\n\n",
       "2                                                                       RT @Reuters: HSBC says it supports China's security law for Hong Kong  \n",
       "3  RT @nytimes: Breaking News: Prime Minister Boris Johnson pledged to admit nearly 3 million people into Britain from Hong Kong if China were…\n",
       "4  RT @Steinhoefel: Einwanderung, aber richtig. Ich weiss gar nicht mehr, aus wie vielen Gründen das ein kluges Vorhaben von Boris Johnson ist…"
      ]
     },
     "execution_count": 10,
     "metadata": {},
     "output_type": "execute_result"
    }
   ],
   "source": [
    "twitext.head()"
   ]
  },
  {
   "cell_type": "code",
   "execution_count": 11,
   "metadata": {},
   "outputs": [
    {
     "name": "stdout",
     "output_type": "stream",
     "text": [
      "/media/ambijat/Datrat/ipytoneeee/CNUS/processed/process_type1.txt\n",
      "/media/ambijat/Datrat/ipytoneeee/CNUS/processed/process_type2.txt\n"
     ]
    }
   ],
   "source": [
    "path_to_process_file = base_folder + \"/\" + \"processed\"\n",
    "p_file = path_to_process_file + \"/\" + \"process_type1.txt\"\n",
    "print(p_file)\n",
    "p2_file = path_to_process_file + \"/\" + \"process_type2.txt\"\n",
    "print(p2_file)"
   ]
  },
  {
   "cell_type": "markdown",
   "metadata": {},
   "source": [
    "## Collecting all words from tweet texts."
   ]
  },
  {
   "cell_type": "code",
   "execution_count": 12,
   "metadata": {},
   "outputs": [
    {
     "name": "stdout",
     "output_type": "stream",
     "text": [
      "rm: cannot remove '*.tmp': No such file or directory\n"
     ]
    }
   ],
   "source": [
    "!rm *.tmp\n",
    "\n",
    "!cat $p_file | sed 's/[[:space:]]/\\n/g' | sed 's/^[ \\t]*//' | sed 's/[ \\t]*$//' | \\\n",
    "sed '/^$/d'| tr -cd '[:alnum:] [:space:]' >> rvd2.tmp\n",
    "!awk 'length > 2' < rvd2.tmp | awk '{print tolower($0)}' > rvd22.tmp\n",
    "!grep -vwF -f exclude.exd < rvd22.tmp > $p2_file\n",
    "\n",
    "!rm *.tmp"
   ]
  },
  {
   "cell_type": "code",
   "execution_count": 13,
   "metadata": {},
   "outputs": [],
   "source": [
    "text3 = []\n",
    "with open (p2_file, \"r\") as p2file:\n",
    "    for line in p2file:\n",
    "        text3.append(line.strip())"
   ]
  },
  {
   "cell_type": "code",
   "execution_count": 14,
   "metadata": {},
   "outputs": [
    {
     "data": {
      "text/plain": [
       "['usa', 'don', 'usa', 'ccp', 'lol', 'noun', 'usa', 'yes', 'sad', 'ndp']"
      ]
     },
     "execution_count": 14,
     "metadata": {},
     "output_type": "execute_result"
    }
   ],
   "source": [
    "text3[:10]"
   ]
  },
  {
   "cell_type": "code",
   "execution_count": 15,
   "metadata": {},
   "outputs": [
    {
     "name": "stdout",
     "output_type": "stream",
     "text": [
      "negative-words.exd\n"
     ]
    }
   ],
   "source": [
    "negative = []\n",
    "n_file = \"negative-words.exd\"\n",
    "print(n_file)"
   ]
  },
  {
   "cell_type": "code",
   "execution_count": 16,
   "metadata": {},
   "outputs": [],
   "source": [
    "with open (n_file, \"r\") as nwfile:\n",
    "    for line in nwfile:\n",
    "        negative.append(line.strip())"
   ]
  },
  {
   "cell_type": "code",
   "execution_count": 17,
   "metadata": {},
   "outputs": [
    {
     "data": {
      "text/plain": [
       "['2-faced',\n",
       " '2-faces',\n",
       " 'abnormal',\n",
       " 'abolish',\n",
       " 'abominable',\n",
       " 'abominably',\n",
       " 'abominate',\n",
       " 'abomination',\n",
       " 'abort',\n",
       " 'aborted']"
      ]
     },
     "execution_count": 17,
     "metadata": {},
     "output_type": "execute_result"
    }
   ],
   "source": [
    "negative[:10]"
   ]
  },
  {
   "cell_type": "markdown",
   "metadata": {},
   "source": [
    "## finding common negative words that are in tweet text text3 and negative list."
   ]
  },
  {
   "cell_type": "code",
   "execution_count": 18,
   "metadata": {},
   "outputs": [],
   "source": [
    "n2 = []\n",
    "n2 = list(set(negative) & set(text3))"
   ]
  },
  {
   "cell_type": "markdown",
   "metadata": {},
   "source": [
    "## n2 is the common list of words that are in negative list and the tweet text list text3 ."
   ]
  },
  {
   "cell_type": "code",
   "execution_count": 19,
   "metadata": {},
   "outputs": [
    {
     "data": {
      "text/plain": [
       "['randomly',\n",
       " 'tyrannical',\n",
       " 'disproportionate',\n",
       " 'insulting',\n",
       " 'disingenuous',\n",
       " 'punch',\n",
       " 'impotent',\n",
       " 'virus',\n",
       " 'violent',\n",
       " 'pretense']"
      ]
     },
     "execution_count": 19,
     "metadata": {},
     "output_type": "execute_result"
    }
   ],
   "source": [
    "n2[:10]"
   ]
  },
  {
   "cell_type": "code",
   "execution_count": 20,
   "metadata": {},
   "outputs": [
    {
     "data": {
      "text/plain": [
       "1544"
      ]
     },
     "execution_count": 20,
     "metadata": {},
     "output_type": "execute_result"
    }
   ],
   "source": [
    "len(n2)"
   ]
  },
  {
   "cell_type": "markdown",
   "metadata": {},
   "source": [
    "# Create lambda with any to collect negative tweets:\n",
    "#### https://stackoverflow.com/questions/60251920/compare-strings-of-a-column-in-a-dataframe-with-a-set-of-words-in-a-list"
   ]
  },
  {
   "cell_type": "markdown",
   "metadata": {},
   "source": [
    "## Using `n2` as a marker for filtering `twitext`."
   ]
  },
  {
   "cell_type": "code",
   "execution_count": 21,
   "metadata": {},
   "outputs": [],
   "source": [
    "text4 = twitext[twitext['full_text'].str.contains(r'(?:{})'.format('|'.join(n2)), regex=True, na=False)].copy()"
   ]
  },
  {
   "cell_type": "code",
   "execution_count": 22,
   "metadata": {},
   "outputs": [
    {
     "data": {
      "text/html": [
       "<div>\n",
       "<style scoped>\n",
       "    .dataframe tbody tr th:only-of-type {\n",
       "        vertical-align: middle;\n",
       "    }\n",
       "\n",
       "    .dataframe tbody tr th {\n",
       "        vertical-align: top;\n",
       "    }\n",
       "\n",
       "    .dataframe thead th {\n",
       "        text-align: right;\n",
       "    }\n",
       "</style>\n",
       "<table border=\"1\" class=\"dataframe\">\n",
       "  <thead>\n",
       "    <tr style=\"text-align: right;\">\n",
       "      <th></th>\n",
       "      <th>full_text</th>\n",
       "    </tr>\n",
       "  </thead>\n",
       "  <tbody>\n",
       "    <tr>\n",
       "      <th>1</th>\n",
       "      <td>RT @HongKongFP: [Recap] Pompeo says China is trying to muzzle Hong Kong by preventing Tiananmen massacre vigil\\n\\n</td>\n",
       "    </tr>\n",
       "    <tr>\n",
       "      <th>5</th>\n",
       "      <td>RT @YuanfenYang: Today China said the Sino-British Joint Declaration, which grants Hong Kong a \"high degree of autonomy\", was a \"unilateral…</td>\n",
       "    </tr>\n",
       "    <tr>\n",
       "      <th>6</th>\n",
       "      <td>RT @WSJ: A top HSBC executive signed a petition supporting China's imposition of security legislation on Hong Kong, putting the bank on Bei…</td>\n",
       "    </tr>\n",
       "    <tr>\n",
       "      <th>7</th>\n",
       "      <td>RT @VoCommunism: \"There is a well-worn pattern of how Beijing deals with dissent, a pattern that can be seen in Xinjiang, Tibet, and most p…</td>\n",
       "    </tr>\n",
       "    <tr>\n",
       "      <th>9</th>\n",
       "      <td>RT @australian: China has banned Hong Kong’s annual candlelight vigil to commemorate the 1989 Tiananmen Square massacre, amid concerns afte…</td>\n",
       "    </tr>\n",
       "    <tr>\n",
       "      <th>10</th>\n",
       "      <td>RT @YuanfenYang: Today China said the Sino-British Joint Declaration, which grants Hong Kong a \"high degree of autonomy\", was a \"unilateral…</td>\n",
       "    </tr>\n",
       "    <tr>\n",
       "      <th>12</th>\n",
       "      <td>RT @AMFChina: \"China’s foreign ministry has accused Britain of 'gross interference' in the country’s affairs after Boris Johnson said he wo…</td>\n",
       "    </tr>\n",
       "    <tr>\n",
       "      <th>13</th>\n",
       "      <td>RT @DominicRaab: Today I updated Parliament on Hong Kong. There is time for China to re-consider, step back from the brink and respect both…</td>\n",
       "    </tr>\n",
       "    <tr>\n",
       "      <th>14</th>\n",
       "      <td>RT @ForeignPolicy: Unable to enact policies to address the underlying grievances of Hong Kong citizens, Beijing faces a sustained, motivate…</td>\n",
       "    </tr>\n",
       "    <tr>\n",
       "      <th>15</th>\n",
       "      <td>EXCLUSIVE: UK is ready to stand up for rights &amp;amp; freedoms of Hong Kong even at price of a free trade deal with China, @DominicRaab tells @SkyNews\\nHe warns Beijing's rise as a global power could lose its shine unless it lives up to international commitments\\n\\n</td>\n",
       "    </tr>\n",
       "  </tbody>\n",
       "</table>\n",
       "</div>"
      ],
      "text/plain": [
       "                                                                                                                                                                                                                                                                   full_text\n",
       "1                                                                                                                                                         RT @HongKongFP: [Recap] Pompeo says China is trying to muzzle Hong Kong by preventing Tiananmen massacre vigil\\n\\n\n",
       "5                                                                                                                               RT @YuanfenYang: Today China said the Sino-British Joint Declaration, which grants Hong Kong a \"high degree of autonomy\", was a \"unilateral…\n",
       "6                                                                                                                               RT @WSJ: A top HSBC executive signed a petition supporting China's imposition of security legislation on Hong Kong, putting the bank on Bei…\n",
       "7                                                                                                                               RT @VoCommunism: \"There is a well-worn pattern of how Beijing deals with dissent, a pattern that can be seen in Xinjiang, Tibet, and most p…\n",
       "9                                                                                                                               RT @australian: China has banned Hong Kong’s annual candlelight vigil to commemorate the 1989 Tiananmen Square massacre, amid concerns afte…\n",
       "10                                                                                                                              RT @YuanfenYang: Today China said the Sino-British Joint Declaration, which grants Hong Kong a \"high degree of autonomy\", was a \"unilateral…\n",
       "12                                                                                                                              RT @AMFChina: \"China’s foreign ministry has accused Britain of 'gross interference' in the country’s affairs after Boris Johnson said he wo…\n",
       "13                                                                                                                              RT @DominicRaab: Today I updated Parliament on Hong Kong. There is time for China to re-consider, step back from the brink and respect both…\n",
       "14                                                                                                                              RT @ForeignPolicy: Unable to enact policies to address the underlying grievances of Hong Kong citizens, Beijing faces a sustained, motivate…\n",
       "15  EXCLUSIVE: UK is ready to stand up for rights &amp; freedoms of Hong Kong even at price of a free trade deal with China, @DominicRaab tells @SkyNews\\nHe warns Beijing's rise as a global power could lose its shine unless it lives up to international commitments\\n\\n"
      ]
     },
     "execution_count": 22,
     "metadata": {},
     "output_type": "execute_result"
    }
   ],
   "source": [
    "text4[:10]"
   ]
  },
  {
   "cell_type": "code",
   "execution_count": 23,
   "metadata": {},
   "outputs": [
    {
     "data": {
      "text/plain": [
       "78843"
      ]
     },
     "execution_count": 23,
     "metadata": {},
     "output_type": "execute_result"
    }
   ],
   "source": [
    "len(text4)"
   ]
  },
  {
   "cell_type": "markdown",
   "metadata": {},
   "source": [
    "### exporting list to txt file."
   ]
  },
  {
   "cell_type": "code",
   "execution_count": 24,
   "metadata": {},
   "outputs": [
    {
     "name": "stdout",
     "output_type": "stream",
     "text": [
      "/media/ambijat/Datrat/ipytoneeee/CNUS/processed/negative_tweets2.txt\n"
     ]
    }
   ],
   "source": [
    "p5_file = path_to_process_file + \"/\" + \"negative_tweets2.txt\"\n",
    "print(p5_file)\n",
    "text4.to_csv(p5_file, header = None, index = None, sep=' ', mode='a')"
   ]
  },
  {
   "cell_type": "markdown",
   "metadata": {},
   "source": [
    "## Collecting all positive tweets."
   ]
  },
  {
   "cell_type": "code",
   "execution_count": 25,
   "metadata": {},
   "outputs": [],
   "source": [
    "text6 = twitext[~twitext['full_text'].str.contains(r'(?:{})'.format('|'.join(n2)), regex=True, na=False)].copy()"
   ]
  },
  {
   "cell_type": "code",
   "execution_count": 26,
   "metadata": {},
   "outputs": [
    {
     "data": {
      "text/html": [
       "<div>\n",
       "<style scoped>\n",
       "    .dataframe tbody tr th:only-of-type {\n",
       "        vertical-align: middle;\n",
       "    }\n",
       "\n",
       "    .dataframe tbody tr th {\n",
       "        vertical-align: top;\n",
       "    }\n",
       "\n",
       "    .dataframe thead th {\n",
       "        text-align: right;\n",
       "    }\n",
       "</style>\n",
       "<table border=\"1\" class=\"dataframe\">\n",
       "  <thead>\n",
       "    <tr style=\"text-align: right;\">\n",
       "      <th></th>\n",
       "      <th>full_text</th>\n",
       "    </tr>\n",
       "  </thead>\n",
       "  <tbody>\n",
       "    <tr>\n",
       "      <th>0</th>\n",
       "      <td>RT @SkyNews: The PM has pledged to allow nearly three million Hong Kong citizens the right to live and work indefinitely in the UK, with a…</td>\n",
       "    </tr>\n",
       "    <tr>\n",
       "      <th>2</th>\n",
       "      <td>RT @Reuters: HSBC says it supports China's security law for Hong Kong</td>\n",
       "    </tr>\n",
       "    <tr>\n",
       "      <th>3</th>\n",
       "      <td>RT @nytimes: Breaking News: Prime Minister Boris Johnson pledged to admit nearly 3 million people into Britain from Hong Kong if China were…</td>\n",
       "    </tr>\n",
       "    <tr>\n",
       "      <th>4</th>\n",
       "      <td>RT @Steinhoefel: Einwanderung, aber richtig. Ich weiss gar nicht mehr, aus wie vielen Gründen das ein kluges Vorhaben von Boris Johnson ist…</td>\n",
       "    </tr>\n",
       "    <tr>\n",
       "      <th>8</th>\n",
       "      <td>RT @ReutersChina: British PM Johnson tells China: We'll not walk away from Hong Kong people</td>\n",
       "    </tr>\n",
       "  </tbody>\n",
       "</table>\n",
       "</div>"
      ],
      "text/plain": [
       "                                                                                                                                      full_text\n",
       "0   RT @SkyNews: The PM has pledged to allow nearly three million Hong Kong citizens the right to live and work indefinitely in the UK, with a…\n",
       "2                                                                       RT @Reuters: HSBC says it supports China's security law for Hong Kong  \n",
       "3  RT @nytimes: Breaking News: Prime Minister Boris Johnson pledged to admit nearly 3 million people into Britain from Hong Kong if China were…\n",
       "4  RT @Steinhoefel: Einwanderung, aber richtig. Ich weiss gar nicht mehr, aus wie vielen Gründen das ein kluges Vorhaben von Boris Johnson ist…\n",
       "8                                                  RT @ReutersChina: British PM Johnson tells China: We'll not walk away from Hong Kong people "
      ]
     },
     "execution_count": 26,
     "metadata": {},
     "output_type": "execute_result"
    }
   ],
   "source": [
    "text6.head()"
   ]
  },
  {
   "cell_type": "code",
   "execution_count": 27,
   "metadata": {},
   "outputs": [
    {
     "data": {
      "text/plain": [
       "37174"
      ]
     },
     "execution_count": 27,
     "metadata": {},
     "output_type": "execute_result"
    }
   ],
   "source": [
    "len(text6)"
   ]
  },
  {
   "cell_type": "code",
   "execution_count": 28,
   "metadata": {},
   "outputs": [
    {
     "name": "stdout",
     "output_type": "stream",
     "text": [
      "116017\n"
     ]
    }
   ],
   "source": [
    "print(len(text4) + len(text6))"
   ]
  },
  {
   "cell_type": "code",
   "execution_count": 29,
   "metadata": {},
   "outputs": [
    {
     "name": "stdout",
     "output_type": "stream",
     "text": [
      "/media/ambijat/Datrat/ipytoneeee/CNUS/processed/positive_tweets2.txt\n"
     ]
    }
   ],
   "source": [
    "#exporting list to txt file.\n",
    "p7_file = path_to_process_file + \"/\" + \"positive_tweets2.txt\"\n",
    "print(p7_file)\n",
    "text6.to_csv(p7_file, header = None, index = None, sep=' ', mode='a')"
   ]
  },
  {
   "cell_type": "code",
   "execution_count": null,
   "metadata": {},
   "outputs": [],
   "source": []
  }
 ],
 "metadata": {
  "kernelspec": {
   "display_name": "Python 3",
   "language": "python",
   "name": "python3"
  },
  "language_info": {
   "codemirror_mode": {
    "name": "ipython",
    "version": 3
   },
   "file_extension": ".py",
   "mimetype": "text/x-python",
   "name": "python",
   "nbconvert_exporter": "python",
   "pygments_lexer": "ipython3",
   "version": "3.8.2"
  }
 },
 "nbformat": 4,
 "nbformat_minor": 4
}
